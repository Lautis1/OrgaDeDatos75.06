{
 "cells": [
  {
   "cell_type": "markdown",
   "metadata": {},
   "source": [
    "## [75.06 / 95.58] Organización de Datos\n",
    "## Trabajo Práctico 2: Competencia de Machine Learning\n",
    "### Grupo 18: DATAVID-20\n",
    "\n",
    "* 102732 - Bilbao, Manuel\n",
    "* 101933 - Karagoz, Filyan\n",
    "* 98684 - Markarian, Darío\n",
    "* 100901 - Stroia, Lautar"
   ]
  },
  {
   "cell_type": "markdown",
   "metadata": {},
   "source": [
    "### Importación general de librerias y set-up de datos."
   ]
  },
  {
   "cell_type": "code",
   "execution_count": 1,
   "metadata": {},
   "outputs": [],
   "source": [
    "import pandas as pd\n",
    "import numpy as np\n",
    "import os\n",
    "import re\n",
    "\n",
    "import sklearn\n",
    "from sklearn.linear_model import LogisticRegression\n",
    "from sklearn.model_selection import train_test_split\n",
    "from sklearn.metrics import classification_report, confusion_matrix\n",
    "from sklearn.metrics import accuracy_score\n",
    "from sklearn.metrics import f1_score\n",
    "from sklearn.feature_extraction.text import CountVectorizer\n",
    "from sklearn.feature_extraction.text import TfidfVectorizer\n",
    "from sklearn.preprocessing import normalize\n",
    "\n",
    "import gensim\n",
    "from gensim.parsing.preprocessing import remove_stopwords\n",
    "\n",
    "import warnings\n",
    "warnings.filterwarnings('ignore')\n",
    "\n",
    "pd.options.display.max_rows = None #mostrar todas las filas del df\n",
    "%matplotlib inline\n",
    "pd.options.display.float_format = '{:20,.2f}'.format # suprimimos la notacion cientifica en los outputs"
   ]
  },
  {
   "cell_type": "markdown",
   "metadata": {},
   "source": [
    "### Set-up de datos."
   ]
  },
  {
   "cell_type": "code",
   "execution_count": 2,
   "metadata": {},
   "outputs": [],
   "source": [
    "#Cargamos los archivos train y test.\n",
    "train = pd.read_csv('train.csv')\n",
    "test = pd.read_csv('test.csv')\n",
    "train = train.fillna('empty')\n",
    "test = test.fillna('empty')"
   ]
  },
  {
   "cell_type": "markdown",
   "metadata": {},
   "source": [
    "## 1. Logistic Regression sin features extra.\n",
    "\n",
    "Vamos a seleccionar los features a utilizar para entrenar el modelo de regresión logistica. En esta primer evaluación, vamos a utilizar la columna 'text' como feature."
   ]
  },
  {
   "cell_type": "code",
   "execution_count": 3,
   "metadata": {},
   "outputs": [],
   "source": [
    "X = train['text'] #features\n",
    "y = train['target'] #variable a predecir"
   ]
  },
  {
   "cell_type": "markdown",
   "metadata": {},
   "source": [
    "### 1.1. Split de los datos."
   ]
  },
  {
   "cell_type": "code",
   "execution_count": 4,
   "metadata": {},
   "outputs": [
    {
     "name": "stdout",
     "output_type": "stream",
     "text": [
      "(5709,)\n",
      "(1904,)\n"
     ]
    }
   ],
   "source": [
    "#Me quedo con el 75% del set para entrenar, y el otro 25% para testear\n",
    "X_train,X_valid,y_train,y_valid = train_test_split(X, y, test_size=0.25, random_state=42)\n",
    "print(X_train.shape)\n",
    "print(X_valid.shape)"
   ]
  },
  {
   "cell_type": "markdown",
   "metadata": {},
   "source": [
    "### 1.1.2. Desarrollo del modelo y predicción."
   ]
  },
  {
   "cell_type": "code",
   "execution_count": 5,
   "metadata": {},
   "outputs": [
    {
     "name": "stdout",
     "output_type": "stream",
     "text": [
      "Accuracy: 0.8109243697478992\n",
      "Precision: 0.8150208623087621\n",
      "Recall: 0.7207872078720787\n",
      "F1: 0.7650130548302871\n"
     ]
    }
   ],
   "source": [
    "#Vectorizamos en tokens los datos\n",
    "vector = CountVectorizer()\n",
    "vector.fit(pd.concat([train.text,test.text]))\n",
    "X_train_vec = vector.transform(X_train)\n",
    "X_valid_vec = vector.transform(X_valid)\n",
    "\n",
    "#instanciamos el regresor con parametros por default\n",
    "logistic_reg = LogisticRegression()\n",
    "\n",
    "#entrenamos\n",
    "logistic_reg.fit(X_train_vec, y_train)\n",
    "\n",
    "#predecimos sobre nuestra variable a predecir\n",
    "y_pred = logistic_reg.predict(X_valid_vec)\n",
    "y_pred = (y_pred > 0.5)\n",
    "\n",
    "print(\"Accuracy:\",accuracy_score(y_valid, y_pred))\n",
    "print(\"Precision:\", sklearn.metrics.precision_score(y_valid,y_pred))\n",
    "print(\"Recall:\", sklearn.metrics.recall_score(y_valid,y_pred))\n",
    "print(\"F1:\",f1_score(y_valid, y_pred))\n"
   ]
  },
  {
   "cell_type": "markdown",
   "metadata": {},
   "source": [
    "### 1.1.3. Submit de Kaggle."
   ]
  },
  {
   "cell_type": "code",
   "execution_count": 6,
   "metadata": {},
   "outputs": [],
   "source": [
    "#Predicciones con el set de TEST y submit -> score 0.79252 en kaggle\n",
    "test_vec = vector.transform(test.text)\n",
    "y_pred = logistic_reg.predict(test_vec)\n",
    "\n",
    "submit = pd.DataFrame(test['id'])\n",
    "submit['target'] = y_pred\n",
    "#submit.to_csv('SUBMITS/submission-logreg.csv',index=False)"
   ]
  },
  {
   "cell_type": "markdown",
   "metadata": {},
   "source": [
    "## 2. Logistic Regression con TfIDF Vectorizer"
   ]
  },
  {
   "cell_type": "code",
   "execution_count": 5,
   "metadata": {},
   "outputs": [
    {
     "name": "stdout",
     "output_type": "stream",
     "text": [
      "Accuracy: 0.8061974789915967\n",
      "Precision: 0.8523809523809524\n",
      "Recall: 0.6605166051660517\n",
      "F1: 0.7442827442827442\n"
     ]
    }
   ],
   "source": [
    "vector2 = TfidfVectorizer()\n",
    "vector2.fit(pd.concat([train.text,test.text]))\n",
    "X_train_vec2 = vector2.transform(X_train)\n",
    "X_valid_vec2 = vector2.transform(X_valid)\n",
    "\n",
    "logistic_reg2 = LogisticRegression()\n",
    "logistic_reg2.fit(X_train_vec2,y_train)\n",
    "\n",
    "y_pred2 = logistic_reg2.predict(X_valid_vec2)\n",
    "#y_pred2 = (y_pred2 > 0.5 )\n",
    "\n",
    "print(\"Accuracy:\",accuracy_score(y_valid, y_pred2))\n",
    "print(\"Precision:\", sklearn.metrics.precision_score(y_valid,y_pred2))\n",
    "print(\"Recall:\", sklearn.metrics.recall_score(y_valid,y_pred2))\n",
    "print(\"F1:\",f1_score(y_valid, y_pred2))"
   ]
  },
  {
   "cell_type": "code",
   "execution_count": 11,
   "metadata": {},
   "outputs": [],
   "source": [
    "#Predicciones con el set de TEST y submit -> score 0.78945 en kaggle\n",
    "test_vec2 = vector2.transform(test.text)\n",
    "y_pred2 = logistic_reg2.predict(test_vec2)\n",
    "\n",
    "submit2 = pd.DataFrame(test['id'])\n",
    "submit2['target'] = y_pred2\n",
    "submit2.to_csv('SUBMITS/submission-logreg-tfidf.csv',index=False)"
   ]
  },
  {
   "cell_type": "markdown",
   "metadata": {},
   "source": [
    "Podemos observar que usando TfIDF Vectorizer, tenemos peores resultados."
   ]
  },
  {
   "cell_type": "markdown",
   "metadata": {},
   "source": [
    "## 3. Logistic Regression utilizando más features"
   ]
  },
  {
   "cell_type": "markdown",
   "metadata": {},
   "source": [
    "### 3.1. Utilizando 'text' y 'keyword' como features."
   ]
  },
  {
   "cell_type": "code",
   "execution_count": 8,
   "metadata": {},
   "outputs": [],
   "source": [
    "#Limpieza de datos\n",
    "\n",
    "#Eliminar numeros de un texto\n",
    "def eliminar_numeros(text):\n",
    "    return re.sub(\"\\d+\", \"\",text)\n",
    "\n",
    "#Eliminar puntuacion\n",
    "def eliminar_puntuacion(text):\n",
    "    return re.sub(r'[^\\w\\s]','',text)\n",
    "\n",
    "#Pasar letras a minusculas\n",
    "def minusculas(text):\n",
    "    return text.lower()\n",
    "\n",
    "#Eliminar caracteres especiales\n",
    "def eliminar_caracteres(text):\n",
    "    return re.sub('[^a-zA-Z0-9 \\n\\.]', '',text)\n",
    "\n",
    "#Eliminar urls\n",
    "def eliminar_url(text):\n",
    "    url_reg = re.compile(r'https?://\\S+|www\\.\\S+')\n",
    "    return url_reg.sub(r'',text)"
   ]
  },
  {
   "cell_type": "code",
   "execution_count": 9,
   "metadata": {},
   "outputs": [],
   "source": [
    "for data in [test,train]:\n",
    "    data['text'] = data['text'].apply(lambda x: eliminar_puntuacion(x))\n",
    "    data['text'] = data['text'].apply(lambda x: minusculas(x))\n",
    "    data['text'] = data['text'].apply(lambda x: eliminar_numeros(x))\n",
    "    data['text'] = data['text'].apply(lambda x: eliminar_caracteres(x))\n",
    "    data['text'] = data['text'].apply(lambda x: remove_stopwords(x))\n",
    "    data['text'] = data['text'].apply(lambda x: eliminar_url(x))    \n",
    "    data['keyword'] = data['keyword'].apply(lambda x: re.sub(r'%20',' ', str(x)))"
   ]
  },
  {
   "cell_type": "markdown",
   "metadata": {},
   "source": [
    "### 3.1.1. Split de datos"
   ]
  },
  {
   "cell_type": "code",
   "execution_count": 10,
   "metadata": {},
   "outputs": [
    {
     "name": "stdout",
     "output_type": "stream",
     "text": [
      "(5709,)\n",
      "(1904,)\n"
     ]
    }
   ],
   "source": [
    "X3 = train['text'] + ' ' + train['keyword'] #features\n",
    "y3 = train.target #variable a predecir\n",
    "\n",
    "#Me quedo con el 75% del set para entrenar, y el otro 25% para testear\n",
    "X_train3,X_valid3,y_train3,y_valid3 = train_test_split(X3, y3, test_size=0.25, random_state=42)\n",
    "print(X_train3.shape)\n",
    "print(X_valid3.shape)"
   ]
  },
  {
   "cell_type": "markdown",
   "metadata": {},
   "source": [
    "### 3.1.2. Desarrollo del modelo y predicción\n"
   ]
  },
  {
   "cell_type": "code",
   "execution_count": 11,
   "metadata": {},
   "outputs": [
    {
     "name": "stdout",
     "output_type": "stream",
     "text": [
      "Accuracy: 0.7956932773109243\n",
      "Precision: 0.7826666666666666\n",
      "Recall: 0.7220172201722017\n",
      "F1: 0.7511196417146513\n"
     ]
    }
   ],
   "source": [
    "#Vectorizamos en tokens los datos\n",
    "vector3 = CountVectorizer()\n",
    "vector3.fit(pd.concat([train.text+' '+train.keyword,test.text+' '+test.keyword]))\n",
    "X_train_vec3 = vector3.transform(X_train3)\n",
    "X_valid_vec3 = vector3.transform(X_valid3)\n",
    "\n",
    "#instanciamos el regresor con parametros por default\n",
    "logistic_reg3 = LogisticRegression()\n",
    "\n",
    "#entrenamos\n",
    "logistic_reg3.fit(X_train_vec3, y_train3)\n",
    "\n",
    "#predecimos sobre nuestra variable a predecir\n",
    "y_pred3 = logistic_reg3.predict(X_valid_vec3)\n",
    "y_pred3 = (y_pred3 > 0.5)\n",
    "\n",
    "print(\"Accuracy:\",accuracy_score(y_valid3, y_pred3))\n",
    "print(\"Precision:\", sklearn.metrics.precision_score(y_valid3,y_pred3))\n",
    "print(\"Recall:\", sklearn.metrics.recall_score(y_valid3,y_pred3))\n",
    "print(\"F1:\",f1_score(y_valid3, y_pred3))\n"
   ]
  },
  {
   "cell_type": "markdown",
   "metadata": {},
   "source": [
    "### 3.1.3.  Submit de Kaggle"
   ]
  },
  {
   "cell_type": "code",
   "execution_count": 12,
   "metadata": {},
   "outputs": [],
   "source": [
    "#Predicciones con el set de TEST y submit -> score 0.78915 en kaggle\n",
    "test_vec = vector3.transform(test['text']+' '+test['keyword'])\n",
    "y_pred3 = logistic_reg3.predict(test_vec)\n",
    "\n",
    "submit = pd.DataFrame(test['id'])\n",
    "submit['target'] = y_pred3\n",
    "#submit.to_csv('SUBMITS/submission-logreg-keywords.csv',index=False)"
   ]
  },
  {
   "cell_type": "markdown",
   "metadata": {},
   "source": [
    "Podemos ver que obtuvimos un score menor al obtenido con una simple regresion lineal, sin features ademas del 'text' y sin limpieza de datos."
   ]
  },
  {
   "cell_type": "markdown",
   "metadata": {},
   "source": [
    "## 4. Logistic Regression con features extra\n",
    "\n",
    "### 4.1. Utilizando la longitud de los tweets, el promedio de esas longitudes y la cantidad de palabras por tweet como features, ademas de text"
   ]
  },
  {
   "cell_type": "code",
   "execution_count": 13,
   "metadata": {},
   "outputs": [],
   "source": [
    "test_features = test.copy()\n",
    "train_features = train.copy()\n",
    "\n",
    "for data in [test_features, train_features]:\n",
    "    data['tweet_len'] = data['text'].str.len()\n",
    "    data['qty_strings'] = data['text'].apply(lambda x: len(str(x).split()))\n",
    "    data['len_gt_mean'] = (data['tweet_len'] > data['tweet_len'].mean()).astype(int)\n",
    "    \n",
    "X4 = train_features[['text','tweet_len','qty_strings','len_gt_mean']]\n",
    "y4 = train_features.target\n",
    "test_features_notarget = test_features[['text','tweet_len','qty_strings','len_gt_mean']]"
   ]
  },
  {
   "cell_type": "markdown",
   "metadata": {},
   "source": [
    "### 4.2. Split y tokenizacion de datos."
   ]
  },
  {
   "cell_type": "code",
   "execution_count": 61,
   "metadata": {
    "scrolled": true
   },
   "outputs": [
    {
     "name": "stdout",
     "output_type": "stream",
     "text": [
      "(5100, 27476)\n",
      "(2513, 27476)\n",
      "(5100,)\n"
     ]
    }
   ],
   "source": [
    "#Concateno los df de test y train\n",
    "data_text = pd.concat([X4,test_features_notarget])\n",
    "\n",
    "#Separo los datasets en test y train\n",
    "X_train4,X_valid4,y_train4,y_valid4 = train_test_split(X4, y4, test_size=0.33, \n",
    "                                                  random_state=42)\n",
    "\n",
    "#Tokenizacion\n",
    "vector4 = CountVectorizer()\n",
    "vector4 = vector4.fit(data_text.text)\n",
    "\n",
    "#Convierto las sparse matrix que devuelve el vectorizer a dataframe asi puedo agregarle las columnas con \n",
    "#los features numericos\n",
    "X_train_vec4 = pd.DataFrame(vector4.transform(X_train4.text).toarray())\n",
    "X_valid_vec4 = pd.DataFrame(vector4.transform(X_valid4.text).toarray())\n",
    "\n",
    "\n",
    "X_train_vec4['tweet_len'] = X_train4['tweet_len']\n",
    "X_train_vec4['tweet_len'] = X_train_vec4['tweet_len'].fillna(0)\n",
    "X_train_vec4['qty_strings'] = X_train4['qty_strings']\n",
    "X_train_vec4['qty_strings'] = X_train_vec4['qty_strings'].fillna(0)\n",
    "X_train_vec4['len_gt_mean'] = X_train4['len_gt_mean']\n",
    "X_train_vec4['len_gt_mean'] = X_train_vec4['len_gt_mean'].fillna(0)\n",
    "\n",
    "X_valid_vec4['tweet_len'] = X_valid4['tweet_len']\n",
    "X_valid_vec4['tweet_len'] = X_valid_vec4['tweet_len'].fillna(0)\n",
    "X_valid_vec4['qty_strings'] = X_valid4['qty_strings']\n",
    "X_valid_vec4['qty_strings'] = X_valid_vec4['qty_strings'].fillna(0)\n",
    "X_valid_vec4['len_gt_mean'] = X_valid4['len_gt_mean']\n",
    "X_valid_vec4['len_gt_mean'] = X_valid_vec4['len_gt_mean'].fillna(0)\n",
    "\n",
    "print(X_train_vec4.shape)\n",
    "print(X_valid_vec4.shape)\n",
    "print(y_train4.shape)"
   ]
  },
  {
   "cell_type": "markdown",
   "metadata": {},
   "source": [
    "### 4.3. Predicciones"
   ]
  },
  {
   "cell_type": "code",
   "execution_count": 62,
   "metadata": {},
   "outputs": [
    {
     "name": "stdout",
     "output_type": "stream",
     "text": [
      "Accuracy: 0.7986470354158376\n",
      "Precision: 0.8012889366272825\n",
      "Recall: 0.6991565135895033\n",
      "F1: 0.7467467467467468\n"
     ]
    }
   ],
   "source": [
    "#instanciamos el regresor con parametros por default\n",
    "logistic_reg4 = LogisticRegression()\n",
    "\n",
    "#entrenamos\n",
    "logistic_reg4.fit(X_train_vec4, y_train4)\n",
    "\n",
    "#predecimos sobre nuestra variable a predecir\n",
    "y_pred4 = logistic_reg4.predict(X_valid_vec4)\n",
    "\n",
    "print(\"Accuracy:\",accuracy_score(y_valid4, y_pred4))\n",
    "print(\"Precision:\", sklearn.metrics.precision_score(y_valid4,y_pred4))\n",
    "print(\"Recall:\", sklearn.metrics.recall_score(y_valid4,y_pred4))\n",
    "print(\"F1:\",f1_score(y_valid4, y_pred4))"
   ]
  },
  {
   "cell_type": "markdown",
   "metadata": {},
   "source": [
    "### 4.4. Submit de kaggle"
   ]
  },
  {
   "cell_type": "code",
   "execution_count": 63,
   "metadata": {},
   "outputs": [],
   "source": [
    "#Predicciones con el set de TEST y submit -> score 0.787 en kaggle, PEOR QUE SIN FEATURES\n",
    "test_vector = pd.DataFrame(vector4.transform(test_features['text']).toarray())\n",
    "\n",
    "test_vector['tweet_len'] = test_features_notarget['tweet_len']\n",
    "test_vector['tweet_len'] = test_vector['tweet_len'].fillna(0)\n",
    "\n",
    "test_vector['qty_strings'] = test_features_notarget['qty_strings']\n",
    "test_vector['qty_strings'] = test_vector['qty_strings'].fillna(0)\n",
    "\n",
    "test_vector['len_gt_mean'] = test_features_notarget['len_gt_mean']\n",
    "test_vector['len_gt_mean'] = test_vector['len_gt_mean'].fillna(0)\n",
    "\n",
    "prediccion = logistic_reg4.predict(test_vector)\n",
    "\n",
    "submit = pd.DataFrame(test_features['id'])\n",
    "submit['target'] = prediccion\n",
    "#submit.to_csv('SUBMITS/submission-logreg-numfeatures.csv',index=False)"
   ]
  },
  {
   "cell_type": "code",
   "execution_count": null,
   "metadata": {},
   "outputs": [],
   "source": []
  }
 ],
 "metadata": {
  "kernelspec": {
   "display_name": "Python 3",
   "language": "python",
   "name": "python3"
  },
  "language_info": {
   "codemirror_mode": {
    "name": "ipython",
    "version": 3
   },
   "file_extension": ".py",
   "mimetype": "text/x-python",
   "name": "python",
   "nbconvert_exporter": "python",
   "pygments_lexer": "ipython3",
   "version": "3.6.9"
  }
 },
 "nbformat": 4,
 "nbformat_minor": 4
}
