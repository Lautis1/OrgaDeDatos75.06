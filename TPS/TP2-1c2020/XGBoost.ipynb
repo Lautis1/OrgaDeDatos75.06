{
 "cells": [
  {
   "cell_type": "markdown",
   "metadata": {},
   "source": [
    "## [75.06 / 95.58] Organización de Datos\n",
    "## Trabajo Práctico 2: Competencia de Machine Learning\n",
    "### Grupo 18: DATAVID-20\n",
    "\n",
    "* 102732 - Bilbao, Manuel\n",
    "* 101933 - Karagoz, Filyan\n",
    "* 98684 - Markarian, Darío\n",
    "* 100901 - Stroia, Lautaro"
   ]
  },
  {
   "cell_type": "markdown",
   "metadata": {},
   "source": [
    "## 1. Importación general de librerias y set-up de datos."
   ]
  },
  {
   "cell_type": "code",
   "execution_count": 1,
   "metadata": {},
   "outputs": [],
   "source": [
    "import pandas as pd\n",
    "import seaborn as sns\n",
    "import numpy as np\n",
    "import matplotlib.pyplot as plt\n",
    "import re as re\n",
    "import os\n",
    "\n",
    "#Para instalar gensim\n",
    "#! pip3 install gensim\n",
    "import gensim\n",
    "from gensim.parsing.preprocessing import remove_stopwords\n",
    "\n",
    "#Instalar tensorflow\n",
    "#!pip3 install tensorflow\n",
    "import tensorflow\n",
    "from tensorflow import keras \n",
    "from tensorflow.keras.preprocessing.text import Tokenizer\n",
    "\n",
    "#Para XGBoost\n",
    "#! pip3 install xgboost\n",
    "from xgboost import XGBClassifier\n",
    "\n",
    "import sklearn\n",
    "from sklearn.metrics import mean_squared_error\n",
    "from sklearn.model_selection import train_test_split\n",
    "from sklearn.feature_extraction.text import CountVectorizer\n",
    "from sklearn.metrics import accuracy_score\n",
    "from sklearn.metrics import f1_score\n",
    "\n",
    "\n",
    "\n",
    "import warnings\n",
    "warnings.filterwarnings('ignore')\n",
    "\n",
    "pd.options.display.max_rows = None #mostrar todas las filas del df\n",
    "%matplotlib inline\n",
    "plt.style.use('default') # haciendo los graficos un poco mas bonitos en matplotlib\n",
    "plt.rcParams['figure.figsize'] = (20, 10)\n",
    "sns.set(style=\"whitegrid\") # seteando tipo de grid en seaborn\n",
    "pd.options.display.float_format = '{:20,.2f}'.format # suprimimos la notacion cientifica en los outputs\n"
   ]
  },
  {
   "cell_type": "markdown",
   "metadata": {},
   "source": [
    "### Limpieza de datos\n",
    "**Definicion de funciones auxiliares**"
   ]
  },
  {
   "cell_type": "code",
   "execution_count": 2,
   "metadata": {},
   "outputs": [],
   "source": [
    "#Eliminar numeros de un texto\n",
    "def eliminar_numeros(text):\n",
    "    return re.sub(\"\\d+\", \"\",text)\n",
    "\n",
    "#Eliminar puntuacion\n",
    "def eliminar_puntuacion(text):\n",
    "    return re.sub(r'[^\\w\\s]','',text)\n",
    "\n",
    "#Pasar letras a minusculas\n",
    "def minusculas(text):\n",
    "    return text.lower()\n",
    "\n",
    "#Eliminar caracteres especiales\n",
    "def eliminar_caracteres(text):\n",
    "    return re.sub('[^a-zA-Z0-9 \\n\\.]', '',text)\n",
    "\n",
    "#Eliminar urls\n",
    "def eliminar_url(text):\n",
    "    url_reg = re.compile(r'https?://\\S+|www\\.\\S+')\n",
    "    return url_reg.sub(r'',text)"
   ]
  },
  {
   "cell_type": "markdown",
   "metadata": {},
   "source": [
    "### Carga de datos"
   ]
  },
  {
   "cell_type": "code",
   "execution_count": 3,
   "metadata": {},
   "outputs": [],
   "source": [
    "test = pd.read_csv('test.csv')\n",
    "train = pd.read_csv('train.csv')"
   ]
  },
  {
   "cell_type": "code",
   "execution_count": 4,
   "metadata": {},
   "outputs": [],
   "source": [
    "for data in [test,train]:\n",
    "    data['text'] = data['text'].apply(lambda x: eliminar_puntuacion(x))\n",
    "    data['text'] = data['text'].apply(lambda x: minusculas(x))\n",
    "    data['text'] = data['text'].apply(lambda x: eliminar_numeros(x))\n",
    "    data['text'] = data['text'].apply(lambda x: eliminar_caracteres(x))\n",
    "    data['text'] = data['text'].apply(lambda x: remove_stopwords(x))\n",
    "    data['text'] = data['text'].apply(lambda x: eliminar_url(x))\n"
   ]
  },
  {
   "cell_type": "code",
   "execution_count": 5,
   "metadata": {},
   "outputs": [
    {
     "name": "stdout",
     "output_type": "stream",
     "text": [
      "(5100,)\n",
      "(2513,)\n"
     ]
    }
   ],
   "source": [
    "#Vectorizacion\n",
    "X_train,X_valid,y_train,y_valid = train_test_split(train.text, train.target, test_size=0.33, \n",
    "                                                  random_state=42)\n",
    "print(X_train.shape)\n",
    "print(X_valid.shape)"
   ]
  },
  {
   "cell_type": "code",
   "execution_count": 6,
   "metadata": {},
   "outputs": [
    {
     "data": {
      "text/plain": [
       "XGBClassifier(base_score=0.5, booster='gbtree', colsample_bylevel=1,\n",
       "              colsample_bynode=1, colsample_bytree=1, gamma=0, gpu_id=-1,\n",
       "              importance_type='gain', interaction_constraints='',\n",
       "              learning_rate=0.300000012, max_delta_step=0, max_depth=6,\n",
       "              min_child_weight=1, missing=nan, monotone_constraints='()',\n",
       "              n_estimators=100, n_jobs=0, num_parallel_tree=1, random_state=0,\n",
       "              reg_alpha=0, reg_lambda=1, scale_pos_weight=1, subsample=1,\n",
       "              tree_method='exact', validate_parameters=1, verbosity=None)"
      ]
     },
     "execution_count": 6,
     "metadata": {},
     "output_type": "execute_result"
    }
   ],
   "source": [
    "#Concateno los tweets\n",
    "data_text = pd.concat([train.text,test.text])\n",
    "\n",
    "#Tokenizacion, ya que para entrenar xgboost, necesita vectors con valores numericos\n",
    "vector = CountVectorizer()\n",
    "vector.fit(data_text)\n",
    "X_train_vec = vector.transform(X_train)\n",
    "X_valid_vec = vector.transform(X_valid)\n",
    "\n",
    "#Entrenamiento del XGB Classifier\n",
    "model = XGBClassifier()\n",
    "model.fit(X_train_vec, y_train)"
   ]
  },
  {
   "cell_type": "code",
   "execution_count": 7,
   "metadata": {},
   "outputs": [
    {
     "name": "stdout",
     "output_type": "stream",
     "text": [
      "Accuracy:  0.78034\n",
      "F1 Score : 0.70291\n",
      "Accuracy:  0.83118\n",
      "F1 Score : 0.77781\n"
     ]
    }
   ],
   "source": [
    "#Predicciones sobre set de training\n",
    "pred1 = model.predict(X_valid_vec)\n",
    "print(\"Accuracy: \", np.round(accuracy_score(y_valid,pred1),5))\n",
    "print(\"F1 Score :\", np.round(f1_score(y_valid, pred1),5))\n",
    "\n",
    "pred2 = model.predict(X_train_vec)\n",
    "print(\"Accuracy: \", np.round(accuracy_score(y_train,pred2),5))\n",
    "print(\"F1 Score :\", np.round(f1_score(y_train, pred2),5))"
   ]
  },
  {
   "cell_type": "code",
   "execution_count": 8,
   "metadata": {},
   "outputs": [],
   "source": [
    "#Predicciones con el set de TEST y submit -> score 0.777 en kaggle\n",
    "test_vec = vector.transform(test.text)\n",
    "y_pred = model.predict(test_vec)\n",
    "\n",
    "submit = pd.DataFrame(test['id'])\n",
    "submit['target'] = y_pred\n",
    "#submit.to_csv('submission-xgboost.csv',index=False)"
   ]
  },
  {
   "cell_type": "markdown",
   "metadata": {},
   "source": [
    "### Ahora probaremos si cambia el score utilizando la columna de Keyword"
   ]
  },
  {
   "cell_type": "code",
   "execution_count": 9,
   "metadata": {},
   "outputs": [],
   "source": [
    "#Voy a limpiar la columna de keyword, sabiendo del tp anterior que el unico caracter\n",
    "#especial a borrar es %20, y voy a eliminar aquellos valores nulos\n",
    "train2 = train.copy()\n",
    "test2 = test.copy()\n",
    "test2['keyword'] = test2['keyword'].fillna('unknown').apply(lambda x: re.sub(r'%20',' ', str(x)))\n",
    "train2['keyword'] = train2['keyword'].fillna('unknown').apply(lambda x: re.sub(r'%20',' ', str(x)))\n",
    "\n",
    "train2['combined_text'] = train2['text'] +' '+ train2['keyword']\n",
    "test2['combined_text'] = test2['text'] +' '+ test2['keyword']"
   ]
  },
  {
   "cell_type": "code",
   "execution_count": 10,
   "metadata": {},
   "outputs": [
    {
     "name": "stdout",
     "output_type": "stream",
     "text": [
      "(5100,)\n",
      "(2513,)\n"
     ]
    }
   ],
   "source": [
    "#Vectorizacion\n",
    "X_train,X_test,y_train,y_test = train_test_split(train2['combined_text'], train2.target, test_size=0.33, \n",
    "                                                  random_state=42)\n",
    "print(X_train.shape)\n",
    "print(X_test.shape)"
   ]
  },
  {
   "cell_type": "code",
   "execution_count": 11,
   "metadata": {},
   "outputs": [
    {
     "data": {
      "text/plain": [
       "XGBClassifier(base_score=0.5, booster='gbtree', colsample_bylevel=1,\n",
       "              colsample_bynode=1, colsample_bytree=1, gamma=0, gpu_id=-1,\n",
       "              importance_type='gain', interaction_constraints='',\n",
       "              learning_rate=0.300000012, max_delta_step=0, max_depth=6,\n",
       "              min_child_weight=1, missing=nan, monotone_constraints='()',\n",
       "              n_estimators=100, n_jobs=0, num_parallel_tree=1, random_state=0,\n",
       "              reg_alpha=0, reg_lambda=1, scale_pos_weight=1, subsample=1,\n",
       "              tree_method='exact', validate_parameters=1, verbosity=None)"
      ]
     },
     "execution_count": 11,
     "metadata": {},
     "output_type": "execute_result"
    }
   ],
   "source": [
    "#Concateno los tweets y keywords\n",
    "data_text = pd.concat([train2.combined_text,test2.combined_text])\n",
    "\n",
    "#Tokenizacion, ya que para entrenar xgboost, necesita vectors con valores numericos\n",
    "vector = CountVectorizer()\n",
    "vector.fit(data_text)\n",
    "X_train_vec = vector.transform(X_train)\n",
    "X_test_vec = vector.transform(X_test)\n",
    "\n",
    "#Entrenamiento del XGB Classifier\n",
    "model1 = XGBClassifier()\n",
    "model1.fit(X_train_vec, y_train)\n"
   ]
  },
  {
   "cell_type": "code",
   "execution_count": 12,
   "metadata": {},
   "outputs": [
    {
     "name": "stdout",
     "output_type": "stream",
     "text": [
      "Accuracy:  0.77477\n",
      "F1 Score : 0.69862\n",
      "Accuracy:  0.83294\n",
      "F1 Score : 0.77996\n"
     ]
    }
   ],
   "source": [
    "#Predicciones sobre set de training\n",
    "pred1 = model1.predict(X_test_vec)\n",
    "print(\"Accuracy: \", np.round(accuracy_score(y_valid,pred1),5))\n",
    "print(\"F1 Score :\", np.round(f1_score(y_test, pred1),5))\n",
    "\n",
    "pred2 = model1.predict(X_train_vec)\n",
    "print(\"Accuracy: \", np.round(accuracy_score(y_train,pred2),5))\n",
    "print(\"F1 Score :\", np.round(f1_score(y_train, pred2),5))"
   ]
  },
  {
   "cell_type": "code",
   "execution_count": 13,
   "metadata": {},
   "outputs": [],
   "source": [
    "#Predicciones con el set de TEST y submit -> score 0.76 en kaggle\n",
    "test_vec = vector.transform(test2.text)\n",
    "#y_pred = model.predict(test_vec)\n",
    "\n",
    "#submit = pd.DataFrame(test['id'])\n",
    "#submit['target'] = y_pred\n",
    "#submit.to_csv('submission-xgboost-keywords.csv',index=False)"
   ]
  },
  {
   "cell_type": "markdown",
   "metadata": {},
   "source": [
    "## Algo de feature engineering\n",
    "\n",
    "Vamos a agregar columnas numericas como por ejemplo: longitud en caracteres de cada tweet, cantidad de palabras en cada tweet, valor binario que indique si la longitud de ese tweet supera o no el promedio de longitud de tweets"
   ]
  },
  {
   "cell_type": "code",
   "execution_count": 14,
   "metadata": {},
   "outputs": [],
   "source": [
    "test_features = test.copy()\n",
    "train_features = train.copy()\n",
    "\n",
    "for data in [test_features, train_features]:\n",
    "    data['tweet_len'] = data['text'].str.len()\n",
    "    data['qty_strings'] = data['text'].apply(lambda x: len(str(x).split()))\n",
    "    data['len_gt_mean'] = (data['tweet_len'] > data['tweet_len'].mean()).astype(int)\n",
    "    \n",
    "X2 = train_features[['text','tweet_len','qty_strings','len_gt_mean']]\n",
    "y2 = train_features.target\n",
    "test_features_notarget = test_features[['text','tweet_len','qty_strings','len_gt_mean']]"
   ]
  },
  {
   "cell_type": "code",
   "execution_count": 25,
   "metadata": {},
   "outputs": [
    {
     "data": {
      "text/plain": [
       "XGBClassifier(alpha=10, base_score=0.5, booster='gbtree', colsample_bylevel=1,\n",
       "              colsample_bynode=1, colsample_bytree=0.5, gamma=0, gpu_id=-1,\n",
       "              importance_type='gain', interaction_constraints='',\n",
       "              learning_rate=0.9, max_delta_step=0, max_depth=7,\n",
       "              min_child_weight=1, missing=nan, monotone_constraints='()',\n",
       "              n_estimators=100, n_jobs=0, num_parallel_tree=1,\n",
       "              objective='reg:logistic', random_state=0, reg_alpha=10,\n",
       "              reg_lambda=1, scale_pos_weight=1, subsample=1,\n",
       "              tree_method='exact', validate_parameters=1, verbosity=None)"
      ]
     },
     "execution_count": 25,
     "metadata": {},
     "output_type": "execute_result"
    }
   ],
   "source": [
    "#Concateno los df de test y train\n",
    "data_text2 = pd.concat([X2,test_features_notarget])\n",
    "\n",
    "#Separo los datasets en test y train\n",
    "X_train2,X_valid2,y_train2,y_valid2 = train_test_split(X2, y2, test_size=0.33, \n",
    "                                                  random_state=42)\n",
    "\n",
    "#Tokenizacion\n",
    "vector2 = CountVectorizer()\n",
    "vector2 = vector2.fit(data_text2.text)\n",
    "\n",
    "#Convierto los sparse matrix que devuelve el vectorizer a dataframe asi puedo agregarle las columnas con \n",
    "#los features numericos\n",
    "X_train_vec2 = pd.DataFrame.sparse.from_spmatrix(vector2.transform(X_train2.text))\n",
    "X_test_vec2 = pd.DataFrame.sparse.from_spmatrix(vector2.transform(X_valid2.text))\n",
    "\n",
    "X_train_vec2['tweet_len'] = X_train2['tweet_len']\n",
    "X_train_vec2['qty_strings'] = X_train2['qty_strings']\n",
    "X_train_vec2['len_gt_mean'] = X_train2['len_gt_mean']\n",
    "\n",
    "X_test_vec2['tweet_len'] = X_valid2['tweet_len']\n",
    "X_test_vec2['qty_strings'] = X_valid2['qty_strings']\n",
    "X_test_vec2['len_gt_mean'] = X_valid2['len_gt_mean']\n",
    "\n",
    "#Entrenamiento del XGB Classifier\n",
    "model2 = XGBClassifier()\n",
    "model2.fit(X_train_vec2, y_train2)\n"
   ]
  },
  {
   "cell_type": "code",
   "execution_count": 26,
   "metadata": {},
   "outputs": [
    {
     "name": "stdout",
     "output_type": "stream",
     "text": [
      "Accuracy:  0.7306\n",
      "F1 Score : 0.60059\n",
      "Accuracy:  0.76333\n",
      "F1 Score : 0.66313\n"
     ]
    }
   ],
   "source": [
    "#Predicciones sobre set de training\n",
    "pred1 = model2.predict(X_test_vec2)\n",
    "print(\"Accuracy: \", np.round(accuracy_score(y_valid2,pred1),5))\n",
    "print(\"F1 Score :\", np.round(f1_score(y_valid2, pred1),5))\n",
    "\n",
    "pred2 = model2.predict(X_train_vec2)\n",
    "print(\"Accuracy: \", np.round(accuracy_score(y_train2,pred2),5))\n",
    "print(\"F1 Score :\", np.round(f1_score(y_train2, pred2),5))"
   ]
  },
  {
   "cell_type": "code",
   "execution_count": 27,
   "metadata": {},
   "outputs": [],
   "source": [
    "#Predicciones sobre test y submit a kaggle -> score 0.76555 en kaggle con parametros default, 0.73 con 100 arboles\n",
    "#de decision, tasa de aprendizaje de 0.9, maxima profundidad de cada arbol de 7.\n",
    "test_vec2 = pd.DataFrame.sparse.from_spmatrix(vector2.transform(test_features.text))\n",
    "test_vec2['tweet_len'] = test_features_notarget['tweet_len']\n",
    "test_vec2['qty_strings'] = test_features_notarget['qty_strings']\n",
    "test_vec2['len_gt_mean'] = test_features_notarget['len_gt_mean']\n",
    "                                             \n",
    "prediccion = model2.predict(test_vec2)\n",
    "\n",
    "submit = pd.DataFrame(test_features['id'])\n",
    "submit['target'] = prediccion\n"
   ]
  },
  {
   "cell_type": "code",
   "execution_count": 29,
   "metadata": {},
   "outputs": [],
   "source": [
    "#submit.to_csv('SUBMITS/submission-xgboost-features2.csv',index=False)"
   ]
  },
  {
   "cell_type": "code",
   "execution_count": null,
   "metadata": {},
   "outputs": [],
   "source": []
  }
 ],
 "metadata": {
  "kernelspec": {
   "display_name": "Python 3",
   "language": "python",
   "name": "python3"
  },
  "language_info": {
   "codemirror_mode": {
    "name": "ipython",
    "version": 3
   },
   "file_extension": ".py",
   "mimetype": "text/x-python",
   "name": "python",
   "nbconvert_exporter": "python",
   "pygments_lexer": "ipython3",
   "version": "3.6.9"
  }
 },
 "nbformat": 4,
 "nbformat_minor": 4
}
