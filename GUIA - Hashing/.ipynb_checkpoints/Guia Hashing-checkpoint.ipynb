{
 "cells": [
  {
   "cell_type": "markdown",
   "metadata": {},
   "source": [
    "**1) Al construir una función de hashing perfecta y mínima con el método visto en clase explique por que es necesario que M sea mayor a N.**"
   ]
  },
  {
   "cell_type": "markdown",
   "metadata": {},
   "source": [
    "Una funcion de hashing es minima y perfecta cuando tengamos O(1) para consultas, y O(m) espacio (m: espacio de direcciones). Estyo solo es posible cuando conocemos cuales son todas las claves que queremos almacenar en la tabla y los datos son estaticos. Cuando eso ocurre, es posible desarrllar una funcion que mapee cada clavle a una unica posicion de forma tal de no tener colisiones.\n",
    "Tenemos que elegir un numero m mayor a n (n: numero de claves) y aplicarle a cada clave dos funcoines de hashing que conviertan las claves al espacio de direcciones 0...m-1. Esto lo hacemos generando 2 funciones de hashing de una flia universal.\n",
    "El siguiente paso es armar un grafo de m nodos en donde cada clave es una arista y los valores de las funciones de hashing determinan los nodos que unimos con cada arista. Rotulamos cada arista con e numero de clave correspondiente.\n",
    "Proximo paso: verificar que el grafo no tenga ciclos. Si existen ciclos, hay que probar con otras 2 funciones de hashing de nuestra flia universal.\n",
    "**Para evitar este proceso muchas veces, es importante que m sea mucho mayor que n, ya que en difinitiva m es el numero de nodos, y n el numero de aristas de nuestro grafo y queremos minimizar la probabildiad de que el grafo sea ciclico. Si el grafo no tiene ciclos, es posible derivar la funcion de hashing perfecta.**"
   ]
  },
  {
   "cell_type": "markdown",
   "metadata": {},
   "source": [
    "**2) Encontrar el m mínimo y los parámetros a y b de forma tal que la función de hashing ax + b mod m sea perfecta para las siguientes claves: 1,3,5,12**"
   ]
  },
  {
   "cell_type": "markdown",
   "metadata": {},
   "source": [
    "**3)Tenemos vectores en 4 dimensiones y usamos “the hashing trick” usando el método de una única función de hashing (es decir sin signo) para reducirlos a 3 dimensiones. Sabemos que la matriz asociada a la función de hashing usada es la siguiente (por filas): [1,0,0; 0,0,1; 0,1,0; 1,0,0]. Se pide construir la función de hashing h(x) equivalente a la matriz presentada.**"
   ]
  },
  {
   "cell_type": "markdown",
   "metadata": {},
   "source": [
    "Si tengo mi vector [a,b,c,d] y lo multiplico por la matriz:\n",
    "[a,b,c,d*] * [[1,0,0],\n",
    "              [0,0,1],\n",
    "              [0,1,0],\n",
    "              [1,0,0]\n",
    "             ]\n",
    "obtengo el vector con las nuevas dimensiones: [a+d,c,b]\n",
    "\n",
    "Mi funcion tiene que cumpli que:\n",
    "* pos = 0 -> h(pos) = 0\n",
    "* pos = 1 -> h(pos) = 2\n",
    "* pos = 2 -> h(pos) = 1\n",
    "* pos = 3 -> h(pos) = 0\n",
    "\n",
    "El prototipo de funciones de hashing para valores numericos es:\n",
    "**h(x) = ((a*x + b)%p)%m**\n",
    "\n",
    "* Obviamente, **m = 3** ya que tengo que hashear a un vector de 3 dimensiones.\n",
    "* a es un valor entre 1 y p-1\n",
    "* p es un numero primo >= m -> puedo tomar **p = 11**\n",
    "* puedo tomar **a = 2**\n",
    "* b es un numero entre 0 y p-1 -> puedo usar **b = 0**\n",
    "\n",
    "Entonces, mi funcion de hashing quedaria expresada:\n",
    "**h(x) = ((2*x) % 11) % 3**\n"
   ]
  },
  {
   "cell_type": "markdown",
   "metadata": {},
   "source": [
    "**4)\n",
    "Dada la siguiente función de hashing que pertenece a la familia Universal de Carter-Wegman para números enteros: h(x) = [(4*x + 3) mod 13] mod 5 . Usamos h para construir un esquema FKS para las siguientes claves: 20,40,70,10,100. Indicar la estructura final resultante y la en caso de ser necesario la segunda función de hashing a usar para el segundo nivel teniendo en cuenta que debe ser pertenecer a la familia [(a*x + b ) mod 13] mod m**\n"
   ]
  },
  {
   "cell_type": "markdown",
   "metadata": {},
   "source": [
    "El esquema **FKS** nos asegura búsqueda en O(1), O(m) en espacio (<= 2m), y resolver colisiones buscando funciones de hash que diferencien las claves.\n",
    "* Tenemos una tabla de tamaño k, primo, similar o igual a m (m: num claves)\n",
    "* En cada posicion guardamos: la cantidad de claves que hashearon a esa posicion (m_i), una sub tabla (puntero) de tamaño (m_i)^2 (o primo cercano) y una segunda funcion de hashing.\n",
    "* La segunda funcion de hashing debe salir de un pool de funciones de hashing donde elgimos alguna que no nos genere colisiones.\n",
    "* Para buscar un elemento, hasheamos por la primer funcion de hashing, que nos indica el bucket, y luego por la que está guardada en el bucket.\n",
    "* Espacio utilizado: aprox 2m -> O(m)"
   ]
  },
  {
   "cell_type": "code",
   "execution_count": 2,
   "metadata": {},
   "outputs": [
    {
     "data": {
      "text/plain": [
       "[0, 2, 0, 4, 0]"
      ]
     },
     "execution_count": 2,
     "metadata": {},
     "output_type": "execute_result"
    }
   ],
   "source": [
    "import pandas as pd\n",
    "\n",
    "h1 = lambda x: ((4*x + 3) % 13) % 5\n",
    "\n",
    "claves = [20,40,70,10,100]\n",
    "hasheos_h1 = [h1(20), h1(40), h1(70), h1(10), h1(100)]\n",
    "hasheos_h1"
   ]
  },
  {
   "cell_type": "code",
   "execution_count": 53,
   "metadata": {},
   "outputs": [
    {
     "data": {
      "text/plain": [
       "[7, 5, 9]"
      ]
     },
     "execution_count": 53,
     "metadata": {},
     "output_type": "execute_result"
    }
   ],
   "source": [
    "#Vemos que hay colisiones en la posicion 0 de la tabla de hash. (se hashean 3 claves a esa posicion)\n",
    "\n",
    "k = [i for i in range(5)] #m = 5\n",
    "# Elijo una h2(x) para evitar colisiones en la tabla original\n",
    "h2 = lambda x: (x % 13) % 11 #primo cercano a 3²\n",
    "hasheos_h2 = [h2(20), h2(70), h2(100)]\n",
    "hasheos_h2"
   ]
  },
  {
   "cell_type": "code",
   "execution_count": 54,
   "metadata": {},
   "outputs": [
    {
     "name": "stderr",
     "output_type": "stream",
     "text": [
      "/home/lauti/.local/lib/python3.6/site-packages/ipykernel_launcher.py:15: SettingWithCopyWarning: \n",
      "A value is trying to be set on a copy of a slice from a DataFrame\n",
      "\n",
      "See the caveats in the documentation: https://pandas.pydata.org/pandas-docs/stable/user_guide/indexing.html#returning-a-view-versus-a-copy\n",
      "  from ipykernel import kernelapp as app\n"
     ]
    },
    {
     "data": {
      "text/html": [
       "<div>\n",
       "<style scoped>\n",
       "    .dataframe tbody tr th:only-of-type {\n",
       "        vertical-align: middle;\n",
       "    }\n",
       "\n",
       "    .dataframe tbody tr th {\n",
       "        vertical-align: top;\n",
       "    }\n",
       "\n",
       "    .dataframe thead th {\n",
       "        text-align: right;\n",
       "    }\n",
       "</style>\n",
       "<table border=\"1\" class=\"dataframe\">\n",
       "  <thead>\n",
       "    <tr style=\"text-align: right;\">\n",
       "      <th></th>\n",
       "      <th>k</th>\n",
       "      <th>hash 1</th>\n",
       "      <th>h2(x)</th>\n",
       "      <th>tabla</th>\n",
       "    </tr>\n",
       "  </thead>\n",
       "  <tbody>\n",
       "    <tr>\n",
       "      <th>0</th>\n",
       "      <td>0</td>\n",
       "      <td>3</td>\n",
       "      <td>(x%13)%11</td>\n",
       "      <td>[-,-,-,-,-,70,-,20,-,100,-]</td>\n",
       "    </tr>\n",
       "    <tr>\n",
       "      <th>1</th>\n",
       "      <td>1</td>\n",
       "      <td>0</td>\n",
       "      <td>-</td>\n",
       "      <td>[]</td>\n",
       "    </tr>\n",
       "    <tr>\n",
       "      <th>2</th>\n",
       "      <td>2</td>\n",
       "      <td>1</td>\n",
       "      <td>-</td>\n",
       "      <td>[[]]</td>\n",
       "    </tr>\n",
       "    <tr>\n",
       "      <th>3</th>\n",
       "      <td>3</td>\n",
       "      <td>0</td>\n",
       "      <td>-</td>\n",
       "      <td>[]</td>\n",
       "    </tr>\n",
       "    <tr>\n",
       "      <th>4</th>\n",
       "      <td>4</td>\n",
       "      <td>1</td>\n",
       "      <td>-</td>\n",
       "      <td>[[]]</td>\n",
       "    </tr>\n",
       "  </tbody>\n",
       "</table>\n",
       "</div>"
      ],
      "text/plain": [
       "   k  hash 1      h2(x)                        tabla\n",
       "0  0       3  (x%13)%11  [-,-,-,-,-,70,-,20,-,100,-]\n",
       "1  1       0          -                           []\n",
       "2  2       1          -                         [[]]\n",
       "3  3       0          -                           []\n",
       "4  4       1          -                         [[]]"
      ]
     },
     "execution_count": 54,
     "metadata": {},
     "output_type": "execute_result"
    }
   ],
   "source": [
    "df = pd.DataFrame(columns= ['k','hash 1','h2(x)','tabla'])\n",
    "df['k'] = k\n",
    "\n",
    "def llenar_lista(lista1, lista2):\n",
    "    lista = [[],[],[],[],[]]\n",
    "    for i in range(5):\n",
    "        indice = lista1[i]\n",
    "        lista[indice].append(lista2[i])\n",
    "    return lista\n",
    "\n",
    "df['hash 1'] = llenar_lista(hasheos_h1,claves)\n",
    "df['hash 1'] = df['hash 1'].str.len()\n",
    "df['h2(x)'] = df['hash 1'].map(lambda x: '(x%13)%11' if x > 1 else '-')\n",
    "df['tabla'] = df['hash 1'].map(lambda x: [[]]*(x**2))\n",
    "df['tabla'][0] = \"[-,-,-,-,-,70,-,20,-,100,-]\"\n",
    "df"
   ]
  },
  {
   "cell_type": "markdown",
   "metadata": {},
   "source": [
    "**5)Tenemos un total de 10.000 claves de 32 bytes c/u. Si usamos el esquema FKS y la primer tabla tiene 1000 posiciones. ¿Cuánto espacio necesitamos en total para almacenar las 10.000 claves?**"
   ]
  },
  {
   "cell_type": "markdown",
   "metadata": {},
   "source": [
    "Si la primer tabla tiene 1000 posiciones, es porque a esa posicion \"k_i\" hashearon sqrt(1000) claves.\n",
    "El costo en espacio es <= 2m, con m: numero de claves.\n",
    "Si tengo 10.000 claves -> 2*10.000 = 20.000 claves * 32bytes = 640.000 bytes = 640KB "
   ]
  },
  {
   "cell_type": "markdown",
   "metadata": {},
   "source": [
    "**6)Supongamos que asignamos a cada letra del alfabeto un número de la forma A=1, B=2, C=3, etc... Proponemos como función de hashing sumar el valor correspondiente a cada carácter del string y luego tomar el módulo con un cierto número primo p. Analizar la función propuesta indicando:**\n",
    "* a) Cantidad de colisiones \n",
    "* b) Facilidad de encontrar sinónimos \n",
    "* c) Eficiencia \n",
    "* d) Efecto avalancha**"
   ]
  },
  {
   "cell_type": "markdown",
   "metadata": {},
   "source": [
    "A) La cantidad de colisiones va a depender del numero p. Si p es grande, la cantidad de colisiones va a ser poca. Si p es chico, la cantidad de colisiones aumenta.\n",
    "\n",
    "B) La facilidad de encontrar sinonimos: como los valores asociados a cada letra son cercanos, es facil encontrar distintas combinaciones que resulten en la misma sumatoria, y por ende terminen en el mismo bucket.\n",
    "\n",
    "C) Eficiencia: en velocidad? espacio?\n",
    "\n",
    "D) Efecto avalancha:  si una entrada cambia ligeramente (por ejemplo, permutando un solo bit), la salida cambia significativamente. No habria efecto avalancha en este ejemplo, ya que al haber combinaciones de letras que generarn la misma sumatoria, y los valors de las letras son tan cercanos, si cambio alguna letra de un string no deberia cambiar significativamente la salida."
   ]
  },
  {
   "cell_type": "code",
   "execution_count": null,
   "metadata": {},
   "outputs": [],
   "source": []
  }
 ],
 "metadata": {
  "kernelspec": {
   "display_name": "Python 3",
   "language": "python",
   "name": "python3"
  },
  "language_info": {
   "codemirror_mode": {
    "name": "ipython",
    "version": 3
   },
   "file_extension": ".py",
   "mimetype": "text/x-python",
   "name": "python",
   "nbconvert_exporter": "python",
   "pygments_lexer": "ipython3",
   "version": "3.6.9"
  }
 },
 "nbformat": 4,
 "nbformat_minor": 4
}
