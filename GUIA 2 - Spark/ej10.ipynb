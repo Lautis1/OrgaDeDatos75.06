{
 "cells": [
  {
   "cell_type": "markdown",
   "metadata": {},
   "source": [
    "10) A partir de la plataforma online de los paises en los que opera, Nintendo tiene info de ventas de videojuegos diarias digitales por pais en el siguiente RDD: (id_videojuego, codigo_pais, fecha, visitas_diarias, total_ventas_diarias). Por otro lado se tiene otro RDD con info de todos los videojuegos que se venden con formato (id_videojuego, titulo, rating_pegi, rating_esbr). Tener en cuenta que el mismo videojuego se puede vender en distintos paises y esos nos permitira obtener metricas a nivel global. **Con esta info escribir un programa en PySpark que permita:\n",
    "-A) Obtener el videojuego con mas ventas digitales globales en un RDD con formato: (id_videojuego, titulo, total), siendo total la cantidad total de ventas digitales globales;\n",
    "-B) Para el videojuego con mas ventas, obtener cual es el pais para el cual se registra una mayor tasa de conversion (es decir, mayor total_ventas_diarias/visitas_diarias)**"
   ]
  },
  {
   "cell_type": "code",
   "execution_count": 4,
   "metadata": {},
   "outputs": [],
   "source": [
    "import random\n",
    "from fechasRandom import *\n",
    "\n",
    "ventasJuegos = []\n",
    "infoJuegos = []\n",
    "titulos = ['Kirby','Super Mario Maker 2',\"Luigi's Mansion\",'Mario Kart 8 Deluxe','The Legend of Zelda','Super Mario Bros','Astral Chain']\n",
    "\n",
    "fechaInicial = '2019-01-01'\n",
    "fechaFinal = '2020-01-01'\n",
    "\n",
    "for _ in range(50):\n",
    "    idVideojuego = random.randint(1,7)\n",
    "    codigoPais = random.randint(1,10)\n",
    "    fecha = random_date(fechaInicial, fechaFinal)\n",
    "    visitasDiarias = random.randint(1,500)\n",
    "    totalVentasDiarias = random.randint(1,350)\n",
    "    ventasJuegos.append((idVideojuego,codigoPais,fecha,visitasDiarias,totalVentasDiarias))\n",
    "    \n",
    "    titulo = titulos[idVideojuego-1]\n",
    "    ratingPegi = random.randint(1,100)\n",
    "    ratingEsbr = random.randint(1,100)\n",
    "    infoJuegos.append((idVideojuego,titulo,ratingPegi,ratingEsbr))\n",
    "    \n",
    "ventasJuegosRDD = sc.parallelize(ventasJuegos)\n",
    "infoJuegosRDD = sc.parallelize(infoJuegos)"
   ]
  },
  {
   "cell_type": "code",
   "execution_count": 5,
   "metadata": {},
   "outputs": [
    {
     "data": {
      "text/plain": [
       "[(4, 3, '2019-08-19', 435, 148),\n",
       " (3, 1, '2019-12-12', 313, 88),\n",
       " (1, 9, '2019-09-19', 394, 322),\n",
       " (1, 9, '2019-07-31', 181, 201),\n",
       " (6, 6, '2019-10-13', 353, 194),\n",
       " (5, 8, '2019-09-21', 131, 155),\n",
       " (2, 2, '2019-03-15', 390, 9),\n",
       " (6, 8, '2019-12-11', 146, 11),\n",
       " (4, 1, '2019-08-12', 178, 151),\n",
       " (2, 1, '2019-01-22', 349, 345),\n",
       " (4, 5, '2019-05-27', 291, 274),\n",
       " (3, 3, '2019-08-05', 261, 262),\n",
       " (7, 3, '2019-04-26', 454, 82),\n",
       " (4, 1, '2019-08-24', 84, 94),\n",
       " (4, 9, '2019-06-05', 160, 84),\n",
       " (5, 4, '2019-08-16', 252, 24),\n",
       " (7, 3, '2019-09-16', 30, 149),\n",
       " (6, 10, '2019-11-16', 441, 309),\n",
       " (3, 6, '2019-11-17', 104, 260),\n",
       " (7, 3, '2019-04-30', 371, 343),\n",
       " (4, 3, '2019-04-13', 33, 29),\n",
       " (2, 6, '2019-04-11', 67, 167),\n",
       " (6, 5, '2019-08-21', 246, 308),\n",
       " (3, 5, '2019-07-23', 264, 98),\n",
       " (1, 1, '2019-01-28', 173, 337),\n",
       " (2, 3, '2019-10-20', 55, 284),\n",
       " (4, 2, '2019-10-05', 22, 10),\n",
       " (7, 9, '2019-01-02', 59, 157),\n",
       " (3, 9, '2019-07-08', 136, 299),\n",
       " (1, 9, '2019-03-25', 408, 303),\n",
       " (1, 6, '2019-04-14', 195, 15),\n",
       " (3, 10, '2019-08-26', 370, 313),\n",
       " (6, 2, '2019-04-25', 274, 203),\n",
       " (6, 2, '2019-02-06', 408, 64),\n",
       " (4, 7, '2019-11-13', 169, 209),\n",
       " (2, 4, '2019-01-07', 391, 318),\n",
       " (7, 6, '2019-08-17', 434, 271),\n",
       " (3, 10, '2019-05-25', 351, 262),\n",
       " (4, 5, '2019-01-12', 445, 168),\n",
       " (6, 10, '2019-11-11', 9, 314),\n",
       " (7, 7, '2019-11-13', 406, 316),\n",
       " (6, 6, '2019-12-04', 199, 191),\n",
       " (5, 1, '2019-04-23', 35, 16),\n",
       " (1, 10, '2019-08-22', 242, 321),\n",
       " (2, 6, '2019-07-11', 174, 350),\n",
       " (1, 7, '2019-11-03', 406, 26),\n",
       " (7, 2, '2019-06-05', 287, 282),\n",
       " (2, 2, '2019-07-29', 447, 194),\n",
       " (1, 3, '2019-09-23', 231, 145),\n",
       " (6, 7, '2019-08-22', 452, 252)]"
      ]
     },
     "execution_count": 5,
     "metadata": {},
     "output_type": "execute_result"
    }
   ],
   "source": [
    "ventasJuegosRDD.collect()"
   ]
  },
  {
   "cell_type": "code",
   "execution_count": 6,
   "metadata": {},
   "outputs": [
    {
     "data": {
      "text/plain": [
       "[(4, 'Mario Kart 8 Deluxe', 66, 21),\n",
       " (3, \"Luigi's Mansion\", 53, 94),\n",
       " (1, 'Kirby', 26, 84),\n",
       " (1, 'Kirby', 16, 6),\n",
       " (6, 'Super Mario Bros', 56, 19),\n",
       " (5, 'The Legend of Zelda', 97, 25),\n",
       " (2, 'Super Mario Maker 2', 51, 88),\n",
       " (6, 'Super Mario Bros', 100, 13),\n",
       " (4, 'Mario Kart 8 Deluxe', 59, 12),\n",
       " (2, 'Super Mario Maker 2', 56, 89),\n",
       " (4, 'Mario Kart 8 Deluxe', 33, 41),\n",
       " (3, \"Luigi's Mansion\", 24, 77),\n",
       " (7, 'Astral Chain', 27, 62),\n",
       " (4, 'Mario Kart 8 Deluxe', 84, 44),\n",
       " (4, 'Mario Kart 8 Deluxe', 74, 1),\n",
       " (5, 'The Legend of Zelda', 71, 100),\n",
       " (7, 'Astral Chain', 95, 56),\n",
       " (6, 'Super Mario Bros', 16, 84),\n",
       " (3, \"Luigi's Mansion\", 54, 91),\n",
       " (7, 'Astral Chain', 34, 11),\n",
       " (4, 'Mario Kart 8 Deluxe', 76, 15),\n",
       " (2, 'Super Mario Maker 2', 9, 91),\n",
       " (6, 'Super Mario Bros', 59, 1),\n",
       " (3, \"Luigi's Mansion\", 56, 73),\n",
       " (1, 'Kirby', 41, 13),\n",
       " (2, 'Super Mario Maker 2', 70, 33),\n",
       " (4, 'Mario Kart 8 Deluxe', 10, 73),\n",
       " (7, 'Astral Chain', 77, 32),\n",
       " (3, \"Luigi's Mansion\", 4, 22),\n",
       " (1, 'Kirby', 63, 36),\n",
       " (1, 'Kirby', 53, 78),\n",
       " (3, \"Luigi's Mansion\", 35, 63),\n",
       " (6, 'Super Mario Bros', 54, 84),\n",
       " (6, 'Super Mario Bros', 76, 94),\n",
       " (4, 'Mario Kart 8 Deluxe', 7, 30),\n",
       " (2, 'Super Mario Maker 2', 57, 26),\n",
       " (7, 'Astral Chain', 35, 30),\n",
       " (3, \"Luigi's Mansion\", 79, 93),\n",
       " (4, 'Mario Kart 8 Deluxe', 27, 6),\n",
       " (6, 'Super Mario Bros', 14, 3),\n",
       " (7, 'Astral Chain', 73, 57),\n",
       " (6, 'Super Mario Bros', 56, 28),\n",
       " (5, 'The Legend of Zelda', 16, 26),\n",
       " (1, 'Kirby', 56, 35),\n",
       " (2, 'Super Mario Maker 2', 70, 86),\n",
       " (1, 'Kirby', 46, 99),\n",
       " (7, 'Astral Chain', 98, 63),\n",
       " (2, 'Super Mario Maker 2', 78, 43),\n",
       " (1, 'Kirby', 88, 81),\n",
       " (6, 'Super Mario Bros', 76, 80)]"
      ]
     },
     "execution_count": 6,
     "metadata": {},
     "output_type": "execute_result"
    }
   ],
   "source": [
    "infoJuegosRDD.collect()"
   ]
  },
  {
   "cell_type": "markdown",
   "metadata": {},
   "source": [
    "**-A) Obtener el videojuego con mas ventas digitales globales en un RDD con formato: (id_videojuego, titulo, total), siendo total la cantidad total de ventas digitales globales**"
   ]
  },
  {
   "cell_type": "code",
   "execution_count": 45,
   "metadata": {},
   "outputs": [
    {
     "data": {
      "text/plain": [
       "[(6, 'Super Mario Bros', 1846)]"
      ]
     },
     "execution_count": 45,
     "metadata": {},
     "output_type": "execute_result"
    }
   ],
   "source": [
    "#(idJuego, totalVentasDiarias)\n",
    "juegoCantidadVentas = ventasJuegosRDD.map(lambda x: (x[0],x[4]))\n",
    "#(idJuego, totalVentasGlobal)\n",
    "juegoCantidadVentas = juegoCantidadVentas.reduceByKey(lambda x,y: x+y)\n",
    "juegoCantidadVentas = juegoCantidadVentas.takeOrdered(juegoCantidadVentas.count(), lambda x: -x[1])\n",
    "juegoMasVendido = juegoCantidadVentas[0]\n",
    "\n",
    "juegoTopVentasRDD = infoJuegosRDD.map(lambda x: (x[0],x[1]))\n",
    "juegoTopVentasRDD = juegoTopVentasRDD.filter(lambda x: x[0] == juegoMasVendido[0])\n",
    "juegoTopVentasRDD = sc.parallelize(juegoTopVentasRDD.take(1))\n",
    "juegoTopVentasRDD.map(lambda x: (x[0],x[1],juegoMasVendido[1])).collect()"
   ]
  },
  {
   "cell_type": "markdown",
   "metadata": {},
   "source": [
    "**-B) Para el videojuego con mas ventas, obtener cual es el pais para el cual se registra una mayor tasa de conversion (es decir, mayor total_ventas_diarias/visitas_diarias)**"
   ]
  },
  {
   "cell_type": "code",
   "execution_count": 50,
   "metadata": {},
   "outputs": [
    {
     "data": {
      "text/plain": [
       "10"
      ]
     },
     "execution_count": 50,
     "metadata": {},
     "output_type": "execute_result"
    }
   ],
   "source": [
    "mayorTasaConversion = ventasJuegosRDD.filter(lambda x: x[0] == juegoMasVendido[0])\n",
    "mayorTasaConversion = mayorTasaConversion.map(lambda x: (x[1],x[4]/x[3]))\n",
    "mayorTasaConversion = mayorTasaConversion.takeOrdered(mayorTasaConversion.count(),lambda x: -x[1])\n",
    "mayorTasaConversion[0][0]"
   ]
  },
  {
   "cell_type": "code",
   "execution_count": null,
   "metadata": {},
   "outputs": [],
   "source": []
  }
 ],
 "metadata": {
  "kernelspec": {
   "display_name": "Python 3",
   "language": "python",
   "name": "python3"
  },
  "language_info": {
   "codemirror_mode": {
    "name": "ipython",
    "version": 3
   },
   "file_extension": ".py",
   "mimetype": "text/x-python",
   "name": "python",
   "nbconvert_exporter": "python",
   "pygments_lexer": "ipython3",
   "version": "3.6.9"
  }
 },
 "nbformat": 4,
 "nbformat_minor": 4
}
