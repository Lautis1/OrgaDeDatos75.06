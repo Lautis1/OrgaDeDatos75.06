{
 "cells": [
  {
   "cell_type": "markdown",
   "metadata": {},
   "source": [
    "3) Se tiene un RDD con info de vvuelos programados con la foma (numero de vuelo, codigo de aerolinea, codigo de aeropuerto de salida, codigo de aeropuerto de llegada, fecha de salida AAAAMMDD, hora de salida HH:MM, fecha de llega AAAAMMDD, hora de llegada HH:MM). A su vez, se cuenta con el registro actualizado del estado dee los vuelos que fueron ocurriendo, con formato (numero de vuelo, aerolinea, fecha de salida, hora de salida, fecha de llegada, hora de llegada, estado). En base al estado, podria contar con alggun dato en blanco, por ejemplo si el vuelo fue cancelado no tendra info de fechas y horas, si el vuelvo se encuentra aun en curso, no contendra info de llegada. Se pide resolver con PySpark:\n",
    "    **A. Cual es el aeropuerto con mayor transito.\n",
    "      B. Cual es la aerolinea con mayor cantidad de vuelos.\n",
    "      C. Cual es la aerolinea con mayor cantidad de cancelaciones.\n",
    "      D. Cual es el vuelo (num. de vuelo+ fecha) con mayor retraso en          horario de salida.\n",
    "      E. Cual es el vuelo (num.de vuelo+fecha) con mayor retraso en\n",
    "         horario de llegada.\n",
    "      F. Cual es la aerolinea mas puntual.\n",
    "      G. Cual es el aeropuerto que registra mayor desviacion con                respecto a los horarios coordinados.**"
   ]
  },
  {
   "cell_type": "code",
   "execution_count": 120,
   "metadata": {},
   "outputs": [],
   "source": [
    "import random\n",
    "from fechasRandom import *\n",
    "from datetime import *\n",
    "\n",
    "vuelos = [(1,random.randint(1,3),'AEP','MDQ','20200320','06:15','20200320','07:05'),\n",
    "          (2,random.randint(1,3),'AEP','CPC','20200320','12:00','20200320','14:15'),\n",
    "          (3,random.randint(1,3),'BRC','EZE','20200320','17:15','20200320','19:30'),\n",
    "          (4,random.randint(1,3),'AEP','IGR','20200320','21:00','20200320','22:40'),\n",
    "          (5,random.randint(1,3),'MDQ','IGR','20200321','06:00','20200321','08:00'),\n",
    "          (6,random.randint(1,3),'IGR','USH','20200321','21:00','20200322','04:20'),\n",
    "          (7,random.randint(1,3),'USH','AEP','20200322','15:15','20200322','18:20'),\n",
    "          (8,random.randint(1,3),'AEP','RGA','20200322','17:00','20200322','20:15'),\n",
    "          (9,random.randint(1,3),'BHI','COR','20200323','09:10','20200323','14:00'),\n",
    "          (10,random.randint(1,3),'NQN','BRC','20200323','14:45','20200323','15:05')]\n",
    "\n",
    "estados = [(1,vuelos[0][1],vuelos[0][4],vuelos[0][5],vuelos[0][6],vuelos[0][7],'Finalizado'),\n",
    "           (2,vuelos[1][1],vuelos[1][4],vuelos[1][5],vuelos[1][6],'14:28','Finalizado'),\n",
    "           (3,vuelos[2][1],vuelos[2][4],vuelos[2][5],None,None,'En curso'),\n",
    "           (4,vuelos[3][1],None,None,None,None,'Cancelado'),\n",
    "           (5,vuelos[4][1],vuelos[4][4],'06:23',vuelos[4][6],'08:30','Finalizado'),\n",
    "           (6,vuelos[5][1],None,None,None,None,'Cancelado'),\n",
    "           (7,vuelos[6][1],vuelos[6][4],vuelos[6][5],vuelos[6][6],vuelos[6][7],'Finalizado'),\n",
    "           (8,vuelos[7][1],vuelos[7][4],'17:05',None,None,'En curso'),\n",
    "           (9,vuelos[8][1],None,None,None,None,'Cancelado'),\n",
    "           (10,vuelos[9][1],vuelos[9][4],vuelos[9][5],vuelos[9][6],vuelos[9][7],'Finalizado')]"
   ]
  },
  {
   "cell_type": "code",
   "execution_count": 121,
   "metadata": {},
   "outputs": [
    {
     "data": {
      "text/plain": [
       "[(1, 1, 'AEP', 'MDQ', '20200320', '06:15', '20200320', '07:05'),\n",
       " (2, 3, 'AEP', 'CPC', '20200320', '12:00', '20200320', '14:15'),\n",
       " (3, 2, 'BRC', 'EZE', '20200320', '17:15', '20200320', '19:30'),\n",
       " (4, 1, 'AEP', 'IGR', '20200320', '21:00', '20200320', '22:40'),\n",
       " (5, 3, 'MDQ', 'IGR', '20200321', '06:00', '20200321', '08:00'),\n",
       " (6, 1, 'IGR', 'USH', '20200321', '21:00', '20200322', '04:20'),\n",
       " (7, 1, 'USH', 'AEP', '20200322', '15:15', '20200322', '18:20'),\n",
       " (8, 2, 'AEP', 'RGA', '20200322', '17:00', '20200322', '20:15'),\n",
       " (9, 3, 'BHI', 'COR', '20200323', '09:10', '20200323', '14:00'),\n",
       " (10, 1, 'NQN', 'BRC', '20200323', '14:45', '20200323', '15:05')]"
      ]
     },
     "execution_count": 121,
     "metadata": {},
     "output_type": "execute_result"
    }
   ],
   "source": [
    "vuelosRDD = sc.parallelize(vuelos)\n",
    "vuelosRDD.collect()"
   ]
  },
  {
   "cell_type": "code",
   "execution_count": 122,
   "metadata": {},
   "outputs": [
    {
     "data": {
      "text/plain": [
       "[(1, 1, '20200320', '06:15', '20200320', '07:05', 'Finalizado'),\n",
       " (2, 3, '20200320', '12:00', '20200320', '14:28', 'Finalizado'),\n",
       " (3, 2, '20200320', '17:15', None, None, 'En curso'),\n",
       " (4, 1, None, None, None, None, 'Cancelado'),\n",
       " (5, 3, '20200321', '06:23', '20200321', '08:30', 'Finalizado'),\n",
       " (6, 1, None, None, None, None, 'Cancelado'),\n",
       " (7, 1, '20200322', '15:15', '20200322', '18:20', 'Finalizado'),\n",
       " (8, 2, '20200322', '17:05', None, None, 'En curso'),\n",
       " (9, 3, None, None, None, None, 'Cancelado'),\n",
       " (10, 1, '20200323', '14:45', '20200323', '15:05', 'Finalizado')]"
      ]
     },
     "execution_count": 122,
     "metadata": {},
     "output_type": "execute_result"
    }
   ],
   "source": [
    "estadosRDD = sc.parallelize(estados)\n",
    "estadosRDD.collect()"
   ]
  },
  {
   "cell_type": "markdown",
   "metadata": {},
   "source": [
    "**A. Cual es el aeropuerto con mayor transito**"
   ]
  },
  {
   "cell_type": "code",
   "execution_count": 123,
   "metadata": {},
   "outputs": [
    {
     "name": "stdout",
     "output_type": "stream",
     "text": [
      "El aeropuerto con mayor transito es 'AEP' con 5 vuelos\n"
     ]
    }
   ],
   "source": [
    "#tengo que ver, tanto en aeropuertos de llegada como de salida, cuantas veces se repiten\n",
    "#y quedarme con el que mas se repite\n",
    "\n",
    "#(aeropSalida, cantidadApariciones)\n",
    "aeropSalidaRDD = vuelosRDD.map(lambda x: (x[2],1))\n",
    "aeropSalidaRDD = aeropSalidaRDD.reduceByKey(lambda x,y: x+y)\n",
    "\n",
    "#(aeropLlegada, cantidadApariciones)\n",
    "aeropLlegadaRDD = vuelosRDD.map(lambda x: (x[3],1))\n",
    "aeropLlegadaRDD = aeropLlegadaRDD.reduceByKey(lambda x,y: x+y)\n",
    "\n",
    "#junto los RDD -> (aerop, (cantidadSalida,cantidadLlegada))\n",
    "aeropuertosRDD = aeropSalidaRDD.join(aeropLlegadaRDD)\n",
    "\n",
    "#(aerop, cantidadSalida + cantidadLlegada)\n",
    "aeropuertosRDD = aeropuertosRDD.map(lambda x: (x[0], x[1][0]+x[1][1]))\n",
    "\n",
    "#me quedo con el mayor\n",
    "aeropuertosRDD = aeropuertosRDD.takeOrdered(aeropuertosRDD.count(),lambda x: x[1])\n",
    "print(\"El aeropuerto con mayor transito es '{}' con {} vuelos\".format(aeropuertosRDD[-1][0], aeropuertosRDD[-1][1]))"
   ]
  },
  {
   "cell_type": "markdown",
   "metadata": {},
   "source": [
    "**B. Cual es la aerolinea con mayor cantidad de vuelos.**"
   ]
  },
  {
   "cell_type": "code",
   "execution_count": 124,
   "metadata": {},
   "outputs": [
    {
     "name": "stdout",
     "output_type": "stream",
     "text": [
      "La aerolinea con mayor cantidad de vuelos es la N° 1 con 5 vuelos\n"
     ]
    }
   ],
   "source": [
    "aerolineasRDD = vuelosRDD.map(lambda x: (x[1],1))\n",
    "aerolineasRDD = aerolineasRDD.reduceByKey(lambda x,y: x+y)\n",
    "aerolineasRDD = aerolineasRDD.takeOrdered(aerolineasRDD.count(),lambda x:x[1])\n",
    "print(\"La aerolinea con mayor cantidad de vuelos es la N° {} con {} vuelos\".format(aerolineasRDD[-1][0],aerolineasRDD[-1][1]))"
   ]
  },
  {
   "cell_type": "markdown",
   "metadata": {},
   "source": [
    "**C. Cual es la aerolinea con mayor cantidad de cancelaciones.**"
   ]
  },
  {
   "cell_type": "code",
   "execution_count": 125,
   "metadata": {},
   "outputs": [
    {
     "name": "stdout",
     "output_type": "stream",
     "text": [
      "La aerolinea con mas cancelaciones es la N° 1 con 2 cancelaciones\n"
     ]
    }
   ],
   "source": [
    "#me quedo con los vuelos que tengan estado cancelado\n",
    "cancelacionesRDD = estadosRDD.filter(lambda x: x[6] == 'Cancelado')\n",
    "cancelacionesRDD = cancelacionesRDD.map(lambda x: (x[1],1))\n",
    "cancelacionesRDD = cancelacionesRDD.reduceByKey(lambda x,y: x+y)\n",
    "cancelacionesRDD = cancelacionesRDD.takeOrdered(cancelacionesRDD.count(),lambda x: x[1])\n",
    "print(\"La aerolinea con mas cancelaciones es la N° {} con {} cancelaciones\".format(cancelacionesRDD[-1][0],cancelacionesRDD[-1][1]))"
   ]
  },
  {
   "cell_type": "markdown",
   "metadata": {},
   "source": [
    "**D. Cual es el vuelo (num. de vuelo+ fecha) con mayor retraso en horario de salida.**"
   ]
  },
  {
   "cell_type": "code",
   "execution_count": 168,
   "metadata": {},
   "outputs": [],
   "source": [
    "horarioTeoricoRDD = vuelosRDD.map(lambda x: ((x[0],x[4]),datetime.strptime(x[5],'%H:%M')))\n",
    "horarioRealRDD = estadosRDD.filter(lambda x: x[6] != 'Cancelado')\n",
    "horarioRealRDD = horarioRealRDD.map(lambda x: ((x[0],x[2]),datetime.strptime(x[3],'%H:%M')))\n",
    "\n",
    "#En horarioTeorico tengo TODOS los vuelos, incluso los cancelados\n",
    "#En horarioReal tengo los vuelos que finalizaron o que estan en curso\n",
    "#si hago join, voy a tener un RDD nuevo con los vuelos finalizados o en curso, y se borran los cancelados\n",
    "#((vuelo,fechaSalida),(fechaTeorica,fechaReal))\n",
    "horariosRDD = horarioTeoricoRDD.join(horarioRealRDD)\n",
    "#(vuelo,fechaSalida, segundosDiferenciaHorarios) (horarioReal-horarioTeorico)\n",
    "horariosRDD = horariosRDD.map(lambda x: (x[0][0],x[0][1],(x[1][1]-x[1][0]).total_seconds()))\n",
    "horariosRDD = horariosRDD.takeOrdered(horariosRDD.count(), lambda x: x[2])\n",
    "#TERMINAR\n",
    "\n",
    "\n",
    "\n"
   ]
  },
  {
   "cell_type": "code",
   "execution_count": 127,
   "metadata": {},
   "outputs": [
    {
     "data": {
      "text/plain": [
       "[((1, '20200320'), datetime.time(6, 15)),\n",
       " ((2, '20200320'), datetime.time(12, 0)),\n",
       " ((3, '20200320'), datetime.time(17, 15)),\n",
       " ((4, '20200320'), datetime.time(21, 0)),\n",
       " ((5, '20200321'), datetime.time(6, 0)),\n",
       " ((6, '20200321'), datetime.time(21, 0)),\n",
       " ((7, '20200322'), datetime.time(15, 15)),\n",
       " ((8, '20200322'), datetime.time(17, 0)),\n",
       " ((9, '20200323'), datetime.time(9, 10)),\n",
       " ((10, '20200323'), datetime.time(14, 45))]"
      ]
     },
     "execution_count": 127,
     "metadata": {},
     "output_type": "execute_result"
    }
   ],
   "source": [
    "horarioTeoricoRDD.collect()"
   ]
  },
  {
   "cell_type": "code",
   "execution_count": 137,
   "metadata": {},
   "outputs": [
    {
     "data": {
      "text/plain": [
       "0"
      ]
     },
     "execution_count": 137,
     "metadata": {},
     "output_type": "execute_result"
    }
   ],
   "source": [
    "fecha = datetime.strptime('17:00','%H:%M')\n",
    "fecha2 = datetime.strptime('17:00','%H:%M')\n",
    "(fecha2-fecha).seconds"
   ]
  },
  {
   "cell_type": "code",
   "execution_count": null,
   "metadata": {},
   "outputs": [],
   "source": []
  }
 ],
 "metadata": {
  "kernelspec": {
   "display_name": "Python 3",
   "language": "python",
   "name": "python3"
  },
  "language_info": {
   "codemirror_mode": {
    "name": "ipython",
    "version": 3
   },
   "file_extension": ".py",
   "mimetype": "text/x-python",
   "name": "python",
   "nbconvert_exporter": "python",
   "pygments_lexer": "ipython3",
   "version": "3.6.9"
  }
 },
 "nbformat": 4,
 "nbformat_minor": 4
}
