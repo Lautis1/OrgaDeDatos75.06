{
 "cells": [
  {
   "cell_type": "markdown",
   "metadata": {},
   "source": [
    "4) Se tiene un RDD con las coordenadas de rectangulos de la forma (x1,x2,y1,y2). **Se pide programar en PySpark un programa que encuentre el rectangulo de superficie minima que contiene al punto (w,z)**"
   ]
  },
  {
   "cell_type": "code",
   "execution_count": 49,
   "metadata": {},
   "outputs": [],
   "source": [
    "import random\n",
    "\n",
    "rectangulos = []\n",
    "for i in range(15):\n",
    "    x1 = random.randint(0,10)\n",
    "    x2 = x1 + random.randint(1,x1+1)\n",
    "    y1 = random.randint(0,10)\n",
    "    y2 = y1 + random.randint(1,y1+1)\n",
    "    rectangulos.append((x1,x2,y1,y2))\n",
    "    "
   ]
  },
  {
   "cell_type": "code",
   "execution_count": 47,
   "metadata": {},
   "outputs": [
    {
     "data": {
      "text/plain": [
       "[(6, 11, 6, 9),\n",
       " (9, 11, 5, 8),\n",
       " (2, 9, 4, 5),\n",
       " (4, 11, 2, 9),\n",
       " (1, 8, 5, 10),\n",
       " (1, 8, 3, 5),\n",
       " (4, 6, 10, 11),\n",
       " (3, 10, 9, 11),\n",
       " (4, 8, 2, 5),\n",
       " (10, 11, 4, 7),\n",
       " (1, 9, 2, 3),\n",
       " (3, 8, 0, 6),\n",
       " (0, 3, 3, 10),\n",
       " (5, 7, 0, 3),\n",
       " (4, 5, 2, 6)]"
      ]
     },
     "execution_count": 47,
     "metadata": {},
     "output_type": "execute_result"
    }
   ],
   "source": [
    "rectangulosRDD = sc.parallelize(rectangulos)\n",
    "rectangulosRDD.collect()"
   ]
  },
  {
   "cell_type": "markdown",
   "metadata": {},
   "source": [
    "**RESOLUCION: Se pide programar en PySpark un programa que encuentre el rectangulo de superficie minima que contiene al punto (w,z)**"
   ]
  },
  {
   "cell_type": "code",
   "execution_count": 4,
   "metadata": {},
   "outputs": [
    {
     "data": {
      "text/plain": [
       "[]"
      ]
     },
     "execution_count": 4,
     "metadata": {},
     "output_type": "execute_result"
    }
   ],
   "source": [
    "w,z = (2,2)\n",
    "#me quedo con los que contienen al punto w,z\n",
    "rectangulosRDD = rectangulosRDD.filter(lambda x: (x[1]>= w >= x[0]) and (x[3]>= w >= x[2]))\n",
    "\n",
    "#armo de la forma (coordenadas, area)\n",
    "rectangulosRDD = rectangulosRDD.map(lambda x: (x, (x[1]-x[0])*(x[3]-x[2])))\n",
    "rectangulosRDD.collect()\n"
   ]
  },
  {
   "cell_type": "code",
   "execution_count": null,
   "metadata": {},
   "outputs": [],
   "source": []
  },
  {
   "cell_type": "code",
   "execution_count": null,
   "metadata": {},
   "outputs": [],
   "source": []
  },
  {
   "cell_type": "code",
   "execution_count": null,
   "metadata": {},
   "outputs": [],
   "source": []
  },
  {
   "cell_type": "code",
   "execution_count": null,
   "metadata": {},
   "outputs": [],
   "source": []
  },
  {
   "cell_type": "code",
   "execution_count": null,
   "metadata": {},
   "outputs": [],
   "source": []
  }
 ],
 "metadata": {
  "kernelspec": {
   "display_name": "Python 3",
   "language": "python",
   "name": "python3"
  }
 },
 "nbformat": 4,
 "nbformat_minor": 4
}
