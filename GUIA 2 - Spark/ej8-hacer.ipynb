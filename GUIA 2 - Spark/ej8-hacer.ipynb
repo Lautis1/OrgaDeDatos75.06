{
 "cells": [
  {
   "cell_type": "markdown",
   "metadata": {},
   "source": [
    "8) Contamos con un cluster que tiene 4 computadoras. Queremos aprovechar el paralelismo del cluster para calcular los numeros primos entre 2 y 20.000.000. Para esto usaremos el conocido algoritmo de la Criba de Eratóstenes. Por ejemplo, si empezamos con una lista tipo (2,3,4,5...) en un primer paso eliminamos todos los que son mayores a 2 y divisibles por 2. Luego eliminamos todos los mayores a 3 y divisibles por 3. Luego con 5 y asi sucesivamente. El resultado final es una lista de numeros que son primos. **Programar este programa usando PySpark.**"
   ]
  },
  {
   "cell_type": "code",
   "execution_count": null,
   "metadata": {},
   "outputs": [],
   "source": []
  }
 ],
 "metadata": {
  "kernelspec": {
   "display_name": "Python 3",
   "language": "python",
   "name": "python3"
  },
  "language_info": {
   "codemirror_mode": {
    "name": "ipython",
    "version": 3
   },
   "file_extension": ".py",
   "mimetype": "text/x-python",
   "name": "python",
   "nbconvert_exporter": "python",
   "pygments_lexer": "ipython3",
   "version": "3.6.9"
  }
 },
 "nbformat": 4,
 "nbformat_minor": 4
}
