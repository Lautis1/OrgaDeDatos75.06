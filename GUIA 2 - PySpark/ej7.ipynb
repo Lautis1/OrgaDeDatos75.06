{
 "cells": [
  {
   "cell_type": "markdown",
   "metadata": {},
   "source": [
    "7) Una red social almacena el contenido de los chat entre sus users en un RDD con el formato (chat_id, user_id, nickname, text). Qqueremos saber cual es el user_id que mas preguntas hace en sus chats: contabilizamos una pregunta por cada caracter '?' que aparezca en el campo text. **Programar en PySpark un programa que identifique al usuario pregunton.**"
   ]
  },
  {
   "cell_type": "code",
   "execution_count": 5,
   "metadata": {},
   "outputs": [],
   "source": [
    "import random\n",
    "\n",
    "usernames = ['Lautaro','Juan','Hernan','Camila','Rodrigo','Luciana','Carla']\n",
    "texts = ['Hola, como estas?', 'Te felicito.','Feliz cumpleaños','La familia como anda? esta mejor?','Te conozco? De donde? quien te paso mi contacto?']\n",
    "socialNetwork = []\n",
    "\n",
    "for i in range(50):\n",
    "    chat_id = i\n",
    "    user_id = random.randint(1,7)\n",
    "    nickname = usernames[user_id-1]\n",
    "    text = random.choice(texts)\n",
    "    socialNetwork.append((chat_id, user_id, nickname, text))\n",
    "\n",
    "socialNetworkRDD = sc.parallelize(socialNetwork)"
   ]
  },
  {
   "cell_type": "code",
   "execution_count": 7,
   "metadata": {},
   "outputs": [
    {
     "data": {
      "text/plain": [
       "[(0, 1, 'Lautaro', 'Hola, como estas?'),\n",
       " (1, 6, 'Luciana', 'Hola, como estas?'),\n",
       " (2, 2, 'Juan', 'Te conozco? De donde? quien te paso mi contacto?'),\n",
       " (3, 7, 'Carla', 'Te conozco? De donde? quien te paso mi contacto?'),\n",
       " (4, 3, 'Hernan', 'Hola, como estas?'),\n",
       " (5, 4, 'Camila', 'Feliz cumpleaños'),\n",
       " (6, 1, 'Lautaro', 'Te felicito.'),\n",
       " (7, 5, 'Rodrigo', 'Te felicito.'),\n",
       " (8, 4, 'Camila', 'La familia como anda? esta mejor?'),\n",
       " (9, 5, 'Rodrigo', 'Te felicito.'),\n",
       " (10, 2, 'Juan', 'Te conozco? De donde? quien te paso mi contacto?'),\n",
       " (11, 1, 'Lautaro', 'La familia como anda? esta mejor?'),\n",
       " (12, 1, 'Lautaro', 'Feliz cumpleaños'),\n",
       " (13, 4, 'Camila', 'Hola, como estas?'),\n",
       " (14, 7, 'Carla', 'Feliz cumpleaños'),\n",
       " (15, 4, 'Camila', 'Te conozco? De donde? quien te paso mi contacto?'),\n",
       " (16, 5, 'Rodrigo', 'Feliz cumpleaños'),\n",
       " (17, 1, 'Lautaro', 'Feliz cumpleaños'),\n",
       " (18, 1, 'Lautaro', 'Te felicito.'),\n",
       " (19, 7, 'Carla', 'Te conozco? De donde? quien te paso mi contacto?'),\n",
       " (20, 2, 'Juan', 'Te felicito.'),\n",
       " (21, 6, 'Luciana', 'Te conozco? De donde? quien te paso mi contacto?'),\n",
       " (22, 7, 'Carla', 'Hola, como estas?'),\n",
       " (23, 2, 'Juan', 'Te conozco? De donde? quien te paso mi contacto?'),\n",
       " (24, 4, 'Camila', 'Hola, como estas?'),\n",
       " (25, 7, 'Carla', 'Feliz cumpleaños'),\n",
       " (26, 2, 'Juan', 'Feliz cumpleaños'),\n",
       " (27, 4, 'Camila', 'Te conozco? De donde? quien te paso mi contacto?'),\n",
       " (28, 1, 'Lautaro', 'La familia como anda? esta mejor?'),\n",
       " (29, 2, 'Juan', 'Te conozco? De donde? quien te paso mi contacto?'),\n",
       " (30, 3, 'Hernan', 'La familia como anda? esta mejor?'),\n",
       " (31, 2, 'Juan', 'Te felicito.'),\n",
       " (32, 5, 'Rodrigo', 'La familia como anda? esta mejor?'),\n",
       " (33, 1, 'Lautaro', 'Hola, como estas?'),\n",
       " (34, 5, 'Rodrigo', 'Hola, como estas?'),\n",
       " (35, 2, 'Juan', 'La familia como anda? esta mejor?'),\n",
       " (36, 5, 'Rodrigo', 'Feliz cumpleaños'),\n",
       " (37, 2, 'Juan', 'La familia como anda? esta mejor?'),\n",
       " (38, 1, 'Lautaro', 'Te felicito.'),\n",
       " (39, 6, 'Luciana', 'Feliz cumpleaños'),\n",
       " (40, 1, 'Lautaro', 'La familia como anda? esta mejor?'),\n",
       " (41, 1, 'Lautaro', 'Hola, como estas?'),\n",
       " (42, 5, 'Rodrigo', 'Te conozco? De donde? quien te paso mi contacto?'),\n",
       " (43, 1, 'Lautaro', 'Feliz cumpleaños'),\n",
       " (44, 5, 'Rodrigo', 'Feliz cumpleaños'),\n",
       " (45, 5, 'Rodrigo', 'La familia como anda? esta mejor?'),\n",
       " (46, 7, 'Carla', 'Te conozco? De donde? quien te paso mi contacto?'),\n",
       " (47, 5, 'Rodrigo', 'Hola, como estas?'),\n",
       " (48, 6, 'Luciana', 'Feliz cumpleaños'),\n",
       " (49, 3, 'Hernan', 'La familia como anda? esta mejor?')]"
      ]
     },
     "execution_count": 7,
     "metadata": {},
     "output_type": "execute_result"
    }
   ],
   "source": [
    "socialNetworkRDD.collect()"
   ]
  },
  {
   "cell_type": "code",
   "execution_count": 15,
   "metadata": {},
   "outputs": [
    {
     "name": "stdout",
     "output_type": "stream",
     "text": [
      "User id: 2\n",
      "Nickname: Juan\n",
      "Number of questions: 16\n"
     ]
    }
   ],
   "source": [
    "#(user_id, nickname, numberOfSymbols)\n",
    "qtySymbols = socialNetworkRDD.map(lambda x: ((x[1],x[2]),x[3].count('?')))\n",
    "#(user_id, nickname, totalNumberOfSymbolsByName)\n",
    "qtySymbols = qtySymbols.reduceByKey(lambda x,y: x+y)\n",
    "qtySymbols = qtySymbols.takeOrdered(qtySymbols.count(),lambda x: x[1])\n",
    "print(\"User id: {}\".format(qtySymbols[-1][0][0]))\n",
    "print(\"Nickname: {}\".format(qtySymbols[-1][0][1]))\n",
    "print(\"Number of questions: {}\".format(qtySymbols[-1][1]))"
   ]
  },
  {
   "cell_type": "code",
   "execution_count": null,
   "metadata": {},
   "outputs": [],
   "source": []
  }
 ],
 "metadata": {
  "kernelspec": {
   "display_name": "Python 3",
   "language": "python",
   "name": "python3"
  },
  "language_info": {
   "codemirror_mode": {
    "name": "ipython",
    "version": 3
   },
   "file_extension": ".py",
   "mimetype": "text/x-python",
   "name": "python",
   "nbconvert_exporter": "python",
   "pygments_lexer": "ipython3",
   "version": "3.6.9"
  }
 },
 "nbformat": 4,
 "nbformat_minor": 4
}
