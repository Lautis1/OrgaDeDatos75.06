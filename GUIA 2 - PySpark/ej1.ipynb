{
 "cells": [
  {
   "cell_type": "markdown",
   "metadata": {},
   "source": [
    "1) Se tiene un  RDD con el registro de notas de los alumnos de la forma (padron, materia, nota, fecha). Se pide resolver, utilizando PySpark:\n",
    "**-A. Cuantos alumnos aprobaron al menos 1 materia en los ultimos 2 años;\n",
    "-B. Un RDD conteniendo el promedoi de notas de cada alumno de la forma (padron, promedio);\n",
    "-C. El nombre y apellido del alumno con mejor promedio. Para esto se puede usar un segundo RDD alumnos con registros (padron, nombre_y_apellido)**\n",
    "\n",
    "\n",
    "Un RDD es un \"Resilient Distributed Dataset\" ->conjunto distribuido y flexible de datos"
   ]
  },
  {
   "cell_type": "code",
   "execution_count": 2,
   "metadata": {},
   "outputs": [],
   "source": [
    "from fechasRandom import *\n",
    "import random\n",
    "\n",
    "registroDeNotas = []\n",
    "padrones = []\n",
    "\n",
    "fechaInicial = '2017-03-14'\n",
    "fechaFinal = '2019-12-01'\n",
    "for i in range(50):\n",
    "    padron = random.randint(100900,101000)\n",
    "    padrones.append(padron)\n",
    "    materia = random.choice([\"Fisica III\",\"Laboratorio\",\"Taller 1\",\"Algebra II\",\"Quimica\"])\n",
    "    nota = random.randint(1,10)\n",
    "    fecha = random_date(fechaInicial, fechaFinal)\n",
    "    registroDeNotas.append((padron,materia,nota,fecha))"
   ]
  },
  {
   "cell_type": "code",
   "execution_count": 3,
   "metadata": {},
   "outputs": [
    {
     "data": {
      "text/plain": [
       "[(100946, 'Algebra II', 10, '2019-08-15'),\n",
       " (100940, 'Fisica III', 10, '2019-10-27'),\n",
       " (100965, 'Quimica', 8, '2017-08-31'),\n",
       " (100958, 'Taller 1', 4, '2018-12-28'),\n",
       " (100975, 'Fisica III', 3, '2017-08-11'),\n",
       " (100930, 'Taller 1', 4, '2017-04-24'),\n",
       " (100946, 'Laboratorio', 2, '2019-01-18'),\n",
       " (100991, 'Algebra II', 1, '2018-03-29'),\n",
       " (100966, 'Laboratorio', 6, '2018-08-20'),\n",
       " (100985, 'Quimica', 9, '2019-03-28'),\n",
       " (100918, 'Algebra II', 5, '2018-09-14'),\n",
       " (101000, 'Fisica III', 4, '2017-12-13'),\n",
       " (100937, 'Quimica', 7, '2019-07-15'),\n",
       " (100903, 'Laboratorio', 3, '2018-09-06'),\n",
       " (100941, 'Fisica III', 6, '2018-06-23'),\n",
       " (100962, 'Taller 1', 3, '2019-06-13'),\n",
       " (100938, 'Fisica III', 7, '2017-10-04'),\n",
       " (100986, 'Algebra II', 3, '2017-05-06'),\n",
       " (100902, 'Quimica', 3, '2017-08-15'),\n",
       " (100950, 'Taller 1', 7, '2017-08-20'),\n",
       " (100911, 'Laboratorio', 7, '2018-02-03'),\n",
       " (101000, 'Fisica III', 1, '2018-07-10'),\n",
       " (100968, 'Algebra II', 4, '2019-04-10'),\n",
       " (100951, 'Quimica', 3, '2018-11-04'),\n",
       " (100944, 'Taller 1', 10, '2017-04-01'),\n",
       " (100912, 'Quimica', 10, '2019-05-19'),\n",
       " (100993, 'Taller 1', 2, '2019-05-05'),\n",
       " (100934, 'Algebra II', 8, '2017-12-16'),\n",
       " (100966, 'Taller 1', 1, '2019-08-06'),\n",
       " (100934, 'Quimica', 3, '2017-12-25'),\n",
       " (100968, 'Laboratorio', 10, '2019-11-12'),\n",
       " (100940, 'Algebra II', 2, '2017-11-29'),\n",
       " (100986, 'Algebra II', 9, '2019-03-05'),\n",
       " (100977, 'Laboratorio', 7, '2019-10-24'),\n",
       " (100926, 'Quimica', 9, '2018-03-16'),\n",
       " (100919, 'Taller 1', 7, '2019-06-05'),\n",
       " (100930, 'Fisica III', 9, '2018-05-17'),\n",
       " (100990, 'Fisica III', 8, '2018-03-25'),\n",
       " (100951, 'Taller 1', 6, '2017-10-07'),\n",
       " (100907, 'Algebra II', 3, '2017-08-01'),\n",
       " (100937, 'Quimica', 8, '2018-06-01'),\n",
       " (100928, 'Taller 1', 7, '2018-07-16'),\n",
       " (100956, 'Taller 1', 8, '2018-06-08'),\n",
       " (100928, 'Laboratorio', 2, '2018-05-15'),\n",
       " (100945, 'Fisica III', 5, '2017-04-11'),\n",
       " (100981, 'Laboratorio', 7, '2019-03-26'),\n",
       " (100970, 'Algebra II', 9, '2019-11-04'),\n",
       " (100910, 'Laboratorio', 1, '2017-11-12'),\n",
       " (100960, 'Taller 1', 1, '2017-04-18'),\n",
       " (100985, 'Taller 1', 6, '2017-12-25')]"
      ]
     },
     "execution_count": 3,
     "metadata": {},
     "output_type": "execute_result"
    }
   ],
   "source": [
    "notas = sc.parallelize(registroDeNotas)\n",
    "notas.collect()"
   ]
  },
  {
   "cell_type": "markdown",
   "metadata": {},
   "source": [
    "**-A. Cuantos alumnos aprobaron al menos 1 materia en los ultimos 2 años**"
   ]
  },
  {
   "cell_type": "code",
   "execution_count": 4,
   "metadata": {},
   "outputs": [
    {
     "data": {
      "text/plain": [
       "21"
      ]
     },
     "execution_count": 4,
     "metadata": {},
     "output_type": "execute_result"
    }
   ],
   "source": [
    "#me quedo con las notas >= 4 y fechas de los ultimos 2 años\n",
    "rddNotas = notas.filter(lambda x: (x[2]>=4) and (x[3]>'2017-03-14') and (x[3] <'2019-03-14'))\n",
    "#me quedo con los padrones que aprobaron\n",
    "rddNotas = rddNotas.map(lambda x: x[0])\n",
    "\n",
    "#elimino los repetidos\n",
    "rddNotas = rddNotas.distinct()\n",
    "rddNotas.count()"
   ]
  },
  {
   "cell_type": "markdown",
   "metadata": {},
   "source": [
    "**B. Un RDD conteniendo el promedoi de notas de cada alumno de la forma (padron, promedio)**"
   ]
  },
  {
   "cell_type": "code",
   "execution_count": 5,
   "metadata": {},
   "outputs": [
    {
     "data": {
      "text/plain": [
       "[(100946, 6.0),\n",
       " (100940, 6.0),\n",
       " (100965, 8.0),\n",
       " (100958, 4.0),\n",
       " (100975, 3.0),\n",
       " (100930, 6.5),\n",
       " (100991, 1.0),\n",
       " (100966, 3.5),\n",
       " (100985, 7.5),\n",
       " (100918, 5.0),\n",
       " (101000, 2.5),\n",
       " (100937, 7.5),\n",
       " (100903, 3.0),\n",
       " (100941, 6.0),\n",
       " (100962, 3.0),\n",
       " (100938, 7.0),\n",
       " (100986, 6.0),\n",
       " (100902, 3.0),\n",
       " (100950, 7.0),\n",
       " (100911, 7.0),\n",
       " (100968, 7.0),\n",
       " (100951, 4.5),\n",
       " (100944, 10.0),\n",
       " (100912, 10.0),\n",
       " (100993, 2.0),\n",
       " (100934, 5.5),\n",
       " (100977, 7.0),\n",
       " (100926, 9.0),\n",
       " (100919, 7.0),\n",
       " (100990, 8.0),\n",
       " (100907, 3.0),\n",
       " (100928, 4.5),\n",
       " (100956, 8.0),\n",
       " (100945, 5.0),\n",
       " (100981, 7.0),\n",
       " (100970, 9.0),\n",
       " (100910, 1.0),\n",
       " (100960, 1.0)]"
      ]
     },
     "execution_count": 5,
     "metadata": {},
     "output_type": "execute_result"
    }
   ],
   "source": [
    "rddPromedios1 = notas.map(lambda x: (x[0],(x[2],1)))\n",
    "#con reduceByKey(lambda x,y: (x[0]+y[0],x[1]+y[1])) lo que hago es agrupar todos los valores con la misma clave (clave=padron, valor=(nota,1))\n",
    "#x es (nota, 1), y es lasiguiente(nota,1), la salida es (nota+nota, 1+1)\n",
    "rddPromedios = rddPromedios1.reduceByKey(lambda x,y: (x[0]+y[0],x[1]+y[1]))\n",
    "\n",
    "#ahora mapeo por padron y por division entre suma de notas y cantidad de apariciones de ese padro\n",
    "#map(lambda x: (x[0],x[1][0]/x[1][1])) donde x[0] es padron, x[1][0] es suma de notas y x[1][1] es cantidad de apariciones de ese padron\n",
    "rddPromedios = rddPromedios.map(lambda x: (x[0], x[1][0]/x[1][1]))\n",
    "rddPromedios.collect()"
   ]
  },
  {
   "cell_type": "code",
   "execution_count": null,
   "metadata": {},
   "outputs": [],
   "source": []
  },
  {
   "cell_type": "code",
   "execution_count": null,
   "metadata": {},
   "outputs": [],
   "source": []
  }
 ],
 "metadata": {
  "kernelspec": {
   "display_name": "Python 3",
   "language": "python",
   "name": "python3"
  },
  "language_info": {
   "codemirror_mode": {
    "name": "ipython",
    "version": 3
   },
   "file_extension": ".py",
   "mimetype": "text/x-python",
   "name": "python",
   "nbconvert_exporter": "python",
   "pygments_lexer": "ipython3",
   "version": "3.6.9"
  }
 },
 "nbformat": 4,
 "nbformat_minor": 2
}
