{
 "cells": [
  {
   "cell_type": "markdown",
   "metadata": {},
   "source": [
    "4) Se tiene un RDD con las coordenadas de rectangulos de la forma (x1,x2,y1,y2). **Se pide programar en PySpark un programa que encuentre el rectangulo de superficie minima que contiene al punto (w,z)**"
   ]
  },
  {
   "cell_type": "code",
   "execution_count": 1,
   "metadata": {},
   "outputs": [],
   "source": [
    "import random\n",
    "\n",
    "rectangulos = []\n",
    "for i in range(15):\n",
    "    x1 = random.randint(0,10)\n",
    "    x2 = random.randint(0,10)\n",
    "    if x2 <= x1:\n",
    "        x2 = random.randint(x1,10)\n",
    "    y1 = random.randint(0,10)\n",
    "    y2 = random.randint(0,10)\n",
    "    if y2 <= y1:\n",
    "        y2 = random.randint(y1,10)\n",
    "    rectangulos.append((x1,x2,y1,y2))\n",
    "    "
   ]
  },
  {
   "cell_type": "code",
   "execution_count": 2,
   "metadata": {},
   "outputs": [
    {
     "data": {
      "text/plain": [
       "[(4, 5, 10, 10),\n",
       " (5, 8, 0, 5),\n",
       " (1, 4, 7, 8),\n",
       " (7, 8, 9, 10),\n",
       " (7, 8, 3, 9),\n",
       " (7, 9, 0, 8),\n",
       " (0, 3, 5, 7),\n",
       " (9, 10, 4, 4),\n",
       " (4, 6, 5, 10),\n",
       " (5, 10, 7, 9),\n",
       " (2, 7, 2, 10),\n",
       " (9, 9, 7, 9),\n",
       " (3, 4, 5, 9),\n",
       " (1, 8, 9, 10),\n",
       " (3, 3, 9, 9)]"
      ]
     },
     "execution_count": 2,
     "metadata": {},
     "output_type": "execute_result"
    }
   ],
   "source": [
    "rectangulosRDD = sc.parallelize(rectangulos)\n",
    "rectangulosRDD.collect()"
   ]
  },
  {
   "cell_type": "markdown",
   "metadata": {},
   "source": [
    "**RESOLUCION: Se pide programar en PySpark un programa que encuentre el rectangulo de superficie minima que contiene al punto (w,z)**"
   ]
  },
  {
   "cell_type": "code",
   "execution_count": null,
   "metadata": {},
   "outputs": [],
   "source": [
    "w,z = (2,2)\n",
    "#me quedo con los que contienen al punto w,z\n",
    "rectangulosRDD = rectangulosRDD.filter(lambda x: (x[1]>= w and x[0]<= w) and (x[3]>= z and x[2]<= z))\n",
    "\n",
    "#armo de la forma (coordenadas, area)\n",
    "coordAreaRDD = rectangulosRDD.map(lambda x: (x,(x[1]-x[0])*(x[3]-x[2])))\n",
    "#ordeno por minima area\n",
    "coordAreaRDD = coordAreaRDD.takeOrdered(coordAreaRDD.count(),lambda x: x[1])\n",
    "coordAreaRDD[0]"
   ]
  },
  {
   "cell_type": "code",
   "execution_count": null,
   "metadata": {},
   "outputs": [],
   "source": []
  },
  {
   "cell_type": "code",
   "execution_count": null,
   "metadata": {},
   "outputs": [],
   "source": []
  },
  {
   "cell_type": "code",
   "execution_count": null,
   "metadata": {},
   "outputs": [],
   "source": []
  },
  {
   "cell_type": "code",
   "execution_count": null,
   "metadata": {},
   "outputs": [],
   "source": []
  },
  {
   "cell_type": "code",
   "execution_count": null,
   "metadata": {},
   "outputs": [],
   "source": []
  }
 ],
 "metadata": {
  "kernelspec": {
   "display_name": "Python 3",
   "language": "python",
   "name": "python3"
  },
  "language_info": {
   "codemirror_mode": {
    "name": "ipython",
    "version": 3
   },
   "file_extension": ".py",
   "mimetype": "text/x-python",
   "name": "python",
   "nbconvert_exporter": "python",
   "pygments_lexer": "ipython3",
   "version": "3.6.9"
  }
 },
 "nbformat": 4,
 "nbformat_minor": 4
}
