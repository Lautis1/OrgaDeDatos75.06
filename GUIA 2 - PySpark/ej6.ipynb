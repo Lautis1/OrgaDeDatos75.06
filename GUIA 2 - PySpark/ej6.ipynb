{
 "cells": [
  {
   "cell_type": "markdown",
   "metadata": {},
   "source": [
    "6) Uber almacena en un cluster todos los datos sobre el movimiento y viajes de todos sus vehiculos. Existe un proceso que nos devuelve un RDD llamado trip_summary con los campos (driver_id, car_id, trip_id, customer_id, date (YYYMMDD), distance_traveled). **Programar usando PysPark un programa que nos indique cual fue el conductor con mayor promedio de distancia recorrida por viaje para abril de 2016.**"
   ]
  },
  {
   "cell_type": "code",
   "execution_count": 20,
   "metadata": {},
   "outputs": [],
   "source": [
    "from fechasRandom import *\n",
    "from datetime import *\n",
    "\n",
    "dates = ['20160401','20160415','20160512','20160413','20170312','20160301',\n",
    "        '20160305','20160424','20160501','20170124']\n",
    "\n",
    "tripSummary = []\n",
    "for i in range(100):\n",
    "    driverId = random.randint(1,10)\n",
    "    carId = random.randint(1,12)\n",
    "    tripId = i\n",
    "    customerId = i\n",
    "    date = random.choice(dates)\n",
    "    distanceTraveled = float('{0:.1f}'.format(random.uniform(1,1000))) #kms\n",
    "    tripSummary.append((driverId, carId, tripId, customerId, date, distanceTraveled))\n",
    "\n",
    "tripSummaryRDD = sc.parallelize(tripSummary)"
   ]
  },
  {
   "cell_type": "code",
   "execution_count": 21,
   "metadata": {},
   "outputs": [
    {
     "data": {
      "text/plain": [
       "[(3, 2, 0, 0, '20160415', 277.1),\n",
       " (2, 9, 1, 1, '20160305', 102.3),\n",
       " (7, 7, 2, 2, '20160512', 392.7),\n",
       " (8, 1, 3, 3, '20160415', 739.5),\n",
       " (5, 10, 4, 4, '20160424', 457.0),\n",
       " (5, 9, 5, 5, '20170124', 335.0),\n",
       " (5, 11, 6, 6, '20160415', 664.8),\n",
       " (4, 2, 7, 7, '20160301', 578.8),\n",
       " (6, 8, 8, 8, '20160501', 48.1),\n",
       " (2, 5, 9, 9, '20160301', 30.8),\n",
       " (7, 6, 10, 10, '20170312', 264.7),\n",
       " (5, 1, 11, 11, '20160501', 960.7),\n",
       " (8, 7, 12, 12, '20160413', 325.4),\n",
       " (5, 11, 13, 13, '20160424', 196.0),\n",
       " (2, 6, 14, 14, '20170124', 572.4),\n",
       " (1, 4, 15, 15, '20170312', 856.8),\n",
       " (1, 3, 16, 16, '20160415', 587.7),\n",
       " (1, 2, 17, 17, '20160301', 492.6),\n",
       " (6, 3, 18, 18, '20160305', 815.0),\n",
       " (2, 5, 19, 19, '20160305', 363.8),\n",
       " (3, 8, 20, 20, '20160512', 505.2),\n",
       " (9, 1, 21, 21, '20160424', 132.1),\n",
       " (8, 5, 22, 22, '20170312', 283.6),\n",
       " (10, 7, 23, 23, '20160401', 559.2),\n",
       " (7, 5, 24, 24, '20160424', 684.0),\n",
       " (3, 9, 25, 25, '20170124', 914.8),\n",
       " (4, 6, 26, 26, '20160305', 26.5),\n",
       " (7, 4, 27, 27, '20160301', 593.9),\n",
       " (9, 11, 28, 28, '20160512', 90.6),\n",
       " (5, 1, 29, 29, '20160401', 223.5),\n",
       " (7, 7, 30, 30, '20170312', 5.3),\n",
       " (5, 6, 31, 31, '20160424', 583.7),\n",
       " (8, 4, 32, 32, '20160305', 854.3),\n",
       " (7, 12, 33, 33, '20160301', 184.3),\n",
       " (4, 8, 34, 34, '20160424', 330.0),\n",
       " (9, 12, 35, 35, '20160401', 5.2),\n",
       " (8, 3, 36, 36, '20160401', 522.7),\n",
       " (6, 10, 37, 37, '20160401', 46.8),\n",
       " (9, 8, 38, 38, '20160501', 56.7),\n",
       " (3, 1, 39, 39, '20160413', 818.9),\n",
       " (9, 3, 40, 40, '20160501', 328.2),\n",
       " (7, 11, 41, 41, '20160401', 793.7),\n",
       " (9, 11, 42, 42, '20160301', 72.6),\n",
       " (6, 12, 43, 43, '20160424', 581.6),\n",
       " (6, 3, 44, 44, '20160424', 150.2),\n",
       " (6, 10, 45, 45, '20160415', 60.2),\n",
       " (8, 4, 46, 46, '20160301', 724.0),\n",
       " (2, 7, 47, 47, '20170312', 964.7),\n",
       " (4, 3, 48, 48, '20160424', 524.5),\n",
       " (5, 9, 49, 49, '20160424', 696.2),\n",
       " (2, 2, 50, 50, '20170124', 985.9),\n",
       " (7, 4, 51, 51, '20170124', 823.6),\n",
       " (4, 9, 52, 52, '20160424', 846.8),\n",
       " (5, 12, 53, 53, '20160413', 414.4),\n",
       " (10, 5, 54, 54, '20170124', 119.1),\n",
       " (8, 6, 55, 55, '20160424', 430.0),\n",
       " (5, 7, 56, 56, '20160424', 529.4),\n",
       " (9, 11, 57, 57, '20160415', 353.6),\n",
       " (10, 2, 58, 58, '20160512', 305.6),\n",
       " (6, 3, 59, 59, '20160415', 54.1),\n",
       " (5, 7, 60, 60, '20170312', 646.7),\n",
       " (9, 4, 61, 61, '20170124', 499.1),\n",
       " (8, 3, 62, 62, '20160413', 758.4),\n",
       " (3, 1, 63, 63, '20160501', 94.0),\n",
       " (5, 2, 64, 64, '20160401', 593.1),\n",
       " (10, 12, 65, 65, '20160415', 732.0),\n",
       " (8, 1, 66, 66, '20160401', 696.7),\n",
       " (10, 9, 67, 67, '20160305', 722.0),\n",
       " (2, 2, 68, 68, '20160401', 181.4),\n",
       " (9, 12, 69, 69, '20160424', 952.9),\n",
       " (6, 4, 70, 70, '20160424', 324.7),\n",
       " (2, 8, 71, 71, '20160501', 862.5),\n",
       " (3, 3, 72, 72, '20160401', 420.5),\n",
       " (6, 10, 73, 73, '20160512', 176.0),\n",
       " (9, 5, 74, 74, '20160512', 306.4),\n",
       " (6, 1, 75, 75, '20170124', 339.7),\n",
       " (3, 11, 76, 76, '20170312', 789.4),\n",
       " (8, 12, 77, 77, '20170124', 541.6),\n",
       " (5, 3, 78, 78, '20160415', 572.1),\n",
       " (5, 1, 79, 79, '20170312', 972.7),\n",
       " (7, 10, 80, 80, '20160501', 953.3),\n",
       " (1, 4, 81, 81, '20170312', 759.0),\n",
       " (2, 7, 82, 82, '20160424', 792.4),\n",
       " (6, 2, 83, 83, '20160301', 951.7),\n",
       " (4, 1, 84, 84, '20160415', 370.8),\n",
       " (5, 10, 85, 85, '20160413', 166.9),\n",
       " (5, 7, 86, 86, '20160424', 837.8),\n",
       " (9, 8, 87, 87, '20170312', 354.1),\n",
       " (7, 9, 88, 88, '20160415', 751.5),\n",
       " (10, 2, 89, 89, '20170124', 338.7),\n",
       " (3, 1, 90, 90, '20160301', 910.9),\n",
       " (9, 7, 91, 91, '20160301', 158.4),\n",
       " (2, 8, 92, 92, '20160301', 493.7),\n",
       " (2, 4, 93, 93, '20160401', 220.0),\n",
       " (10, 4, 94, 94, '20160305', 744.4),\n",
       " (7, 6, 95, 95, '20160501', 990.4),\n",
       " (8, 5, 96, 96, '20170312', 991.1),\n",
       " (4, 2, 97, 97, '20160501', 980.5),\n",
       " (1, 8, 98, 98, '20160424', 347.7),\n",
       " (7, 11, 99, 99, '20160415', 991.2)]"
      ]
     },
     "execution_count": 21,
     "metadata": {},
     "output_type": "execute_result"
    }
   ],
   "source": [
    "tripSummaryRDD.collect()"
   ]
  },
  {
   "cell_type": "markdown",
   "metadata": {},
   "source": [
    "**Programar usando PysPark un programa que nos indique cual fue el conductor con mayor promedio de distancia recorrida por viaje para abril de 2016.**"
   ]
  },
  {
   "cell_type": "code",
   "execution_count": 43,
   "metadata": {},
   "outputs": [
    {
     "name": "stdout",
     "output_type": "stream",
     "text": [
      "Driver id: 7\n",
      "Mean distance by trip: 805.0999999999999\n"
     ]
    }
   ],
   "source": [
    "#filter by april 2016\n",
    "tripsAbril2016 = tripSummaryRDD.filter(lambda x: datetime.strptime(x[4],'%Y%m%d').month == 4)\n",
    "tripsAbril2016 = tripsAbril2016.filter(lambda x: datetime.strptime(x[4],'%Y%m%d').year == 2016)\n",
    "\n",
    "#(driverId, (distanceTraveled, numberOfTrips)\n",
    "driverDistance = tripsAbril2016.map(lambda x: (x[0],(x[5],1)))\n",
    "driverDistance = driverDistance.reduceByKey(lambda x,y: (x[0]+y[0],x[1]+y[1]))\n",
    "\n",
    "#(driverId, distanceMean)\n",
    "driverMean = driverDistance.map(lambda x: (x[0], x[1][0]/x[1][1]))\n",
    "#sort by mean\n",
    "driverMean = driverMean.takeOrdered(driverMean.count(), lambda x: -x[1])\n",
    "biggestDistance = driverMean[0]\n",
    "print(\"Driver id: {}\".format(biggestDistance[0]))\n",
    "print(\"Mean distance by trip: {}\".format(biggestDistance[1]))\n"
   ]
  },
  {
   "cell_type": "code",
   "execution_count": null,
   "metadata": {},
   "outputs": [],
   "source": []
  }
 ],
 "metadata": {
  "kernelspec": {
   "display_name": "Python 3",
   "language": "python",
   "name": "python3"
  },
  "language_info": {
   "codemirror_mode": {
    "name": "ipython",
    "version": 3
   },
   "file_extension": ".py",
   "mimetype": "text/x-python",
   "name": "python",
   "nbconvert_exporter": "python",
   "pygments_lexer": "ipython3",
   "version": "3.6.9"
  }
 },
 "nbformat": 4,
 "nbformat_minor": 4
}
