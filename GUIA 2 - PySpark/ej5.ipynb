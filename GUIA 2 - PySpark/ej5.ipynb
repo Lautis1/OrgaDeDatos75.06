{
 "cells": [
  {
   "cell_type": "markdown",
   "metadata": {},
   "source": [
    "5) Se tiene un RDD con libros en donde cada registro es un texto. **Se pide obtener todos los anagramas de mas de 7 letras que puedan encontrarse. El format de salida debe ser una lista de listas en donde cada lista tiene un conjunto de palabras que son anagramas. Ejemplo: [[discounter,introduces,reductions],[percussion, supersonic]..]**"
   ]
  },
  {
   "cell_type": "markdown",
   "metadata": {},
   "source": [
    "Un anagrama es una palabra que resulta de la trasposicion de letras de otra palabra. Una palabra es anagrama de otra si las dos tienen las mismas letras, con el mismo numero de apariciones pero en orden diferente."
   ]
  },
  {
   "cell_type": "code",
   "execution_count": 6,
   "metadata": {},
   "outputs": [],
   "source": [
    "#funcion auxiliar para pasar una palabra a lista de palabras ordenadas\n",
    "def convertir(palabra):\n",
    "    \n",
    "    palabra = palabra.lower()\n",
    "    listaLetras = list(palabra)\n",
    "    listaLetras.sort()\n",
    "    return ''.join(listaLetras)\n"
   ]
  },
  {
   "cell_type": "code",
   "execution_count": 7,
   "metadata": {},
   "outputs": [],
   "source": [
    "textos = ['lautaro lucas marcelo',\n",
    "         'roma amor rama',\n",
    "         'introduces a lot of reductions',\n",
    "         'desamparador desparramado',\n",
    "         'tu vieja en tanga',\n",
    "         'alexander caniggia',\n",
    "         'conservadora conversadora jaja',\n",
    "         'El renacimiento ironicamente renacido']\n",
    "\n",
    "textosRDD = sc.parallelize(textos)"
   ]
  },
  {
   "cell_type": "code",
   "execution_count": 8,
   "metadata": {},
   "outputs": [
    {
     "data": {
      "text/plain": [
       "['lautaro lucas marcelo',\n",
       " 'roma amor rama',\n",
       " 'introduces a lot of reductions',\n",
       " 'desamparador desparramado',\n",
       " 'tu vieja en tanga',\n",
       " 'alexander caniggia',\n",
       " 'conservadora conversadora jaja',\n",
       " 'El renacimiento ironicamente renacido']"
      ]
     },
     "execution_count": 8,
     "metadata": {},
     "output_type": "execute_result"
    }
   ],
   "source": [
    "textosRDD.collect()"
   ]
  },
  {
   "cell_type": "code",
   "execution_count": 30,
   "metadata": {},
   "outputs": [
    {
     "data": {
      "text/plain": [
       "[['introduces', 'reductions'],\n",
       " ['desamparador', 'desparramado'],\n",
       " ['conservadora', 'conversadora'],\n",
       " ['renacimiento', 'ironicamente']]"
      ]
     },
     "execution_count": 30,
     "metadata": {},
     "output_type": "execute_result"
    }
   ],
   "source": [
    "#hago una unica lista de palabras con flatMap\n",
    "palabrasMasDe7LetrasRDD = textosRDD.flatMap(lambda x: x.split(' '))\n",
    "palabrasMasDe7LetrasRDD = palabrasMasDe7LetrasRDD.filter(lambda x: len(x)>=7)\n",
    "palabrasMasDe7LetrasRDD = palabrasMasDe7LetrasRDD.map(lambda x: (convertir(x),[x]))\n",
    "palabrasMasDe7LetrasRDD = palabrasMasDe7LetrasRDD.reduceByKey(lambda x,y: x+y)\n",
    "palabrasMasDe7LetrasRDD = palabrasMasDe7LetrasRDD.map(lambda x: x[1])\n",
    "anagramas = palabrasMasDe7LetrasRDD.filter(lambda x: len(x)>=2)\n",
    "anagramas.collect()\n",
    "                                                     "
   ]
  },
  {
   "cell_type": "code",
   "execution_count": null,
   "metadata": {},
   "outputs": [],
   "source": []
  }
 ],
 "metadata": {
  "kernelspec": {
   "display_name": "Python 3",
   "language": "python",
   "name": "python3"
  },
  "language_info": {
   "codemirror_mode": {
    "name": "ipython",
    "version": 3
   },
   "file_extension": ".py",
   "mimetype": "text/x-python",
   "name": "python",
   "nbconvert_exporter": "python",
   "pygments_lexer": "ipython3",
   "version": "3.6.9"
  }
 },
 "nbformat": 4,
 "nbformat_minor": 4
}
