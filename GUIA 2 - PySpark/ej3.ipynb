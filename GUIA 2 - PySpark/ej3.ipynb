{
 "cells": [
  {
   "cell_type": "markdown",
   "metadata": {},
   "source": [
    "3) Se tiene un RDD con info de vvuelos programados con la foma (numero de vuelo, codigo de aerolinea, codigo de aeropuerto de salida, codigo de aeropuerto de llegada, fecha de salida AAAAMMDD, hora de salida HH:MM, fecha de llega AAAAMMDD, hora de llegada HH:MM). A su vez, se cuenta con el registro actualizado del estado dee los vuelos que fueron ocurriendo, con formato (numero de vuelo, aerolinea, fecha de salida, hora de salida, fecha de llegada, hora de llegada, estado). En base al estado, podria contar con alggun dato en blanco, por ejemplo si el vuelo fue cancelado no tendra info de fechas y horas, si el vuelvo se encuentra aun en curso, no contendra info de llegada. Se pide resolver con PySpark:\n",
    "    **A. Cual es el aeropuerto con mayor transito.\n",
    "      B. Cual es la aerolinea con mayor cantidad de vuelos.\n",
    "      C. Cual es la aerolinea con mayor cantidad de cancelaciones.\n",
    "      D. Cual es el vuelo (num. de vuelo+ fecha) con mayor retraso en          horario de salida.\n",
    "      E. Cual es el vuelo (num.de vuelo+fecha) con mayor retraso en\n",
    "         horario de llegada.\n",
    "      F. Cual es la aerolinea mas puntual.\n",
    "      G. Cual es el aeropuerto que registra mayor desviacion con                respecto a los horarios coordinados.**"
   ]
  },
  {
   "cell_type": "code",
   "execution_count": 1,
   "metadata": {},
   "outputs": [],
   "source": [
    "import random\n",
    "from fechasRandom import *\n",
    "from datetime import *\n",
    "\n",
    "vuelos = [(1,random.randint(1,3),'AEP','MDQ','20200320','06:15','20200320','07:05'),\n",
    "          (2,random.randint(1,3),'AEP','CPC','20200320','12:00','20200320','14:15'),\n",
    "          (3,random.randint(1,3),'BRC','EZE','20200320','17:15','20200320','19:30'),\n",
    "          (4,random.randint(1,3),'AEP','IGR','20200320','21:00','20200320','22:40'),\n",
    "          (5,random.randint(1,3),'MDQ','IGR','20200321','06:00','20200321','08:00'),\n",
    "          (6,random.randint(1,3),'IGR','USH','20200321','21:00','20200322','04:20'),\n",
    "          (7,random.randint(1,3),'USH','AEP','20200322','15:15','20200322','18:20'),\n",
    "          (8,random.randint(1,3),'AEP','RGA','20200322','17:00','20200322','20:15'),\n",
    "          (9,random.randint(1,3),'BHI','COR','20200323','09:10','20200323','14:00'),\n",
    "          (10,random.randint(1,3),'NQN','BRC','20200323','14:45','20200323','15:05')]\n",
    "\n",
    "estados = [(1,vuelos[0][1],vuelos[0][4],vuelos[0][5],vuelos[0][6],vuelos[0][7],'Finalizado'),\n",
    "           (2,vuelos[1][1],vuelos[1][4],vuelos[1][5],vuelos[1][6],'14:28','Finalizado'),\n",
    "           (3,vuelos[2][1],vuelos[2][4],vuelos[2][5],None,None,'En curso'),\n",
    "           (4,vuelos[3][1],None,None,None,None,'Cancelado'),\n",
    "           (5,vuelos[4][1],vuelos[4][4],'06:23',vuelos[4][6],'08:30','Finalizado'),\n",
    "           (6,vuelos[5][1],None,None,None,None,'Cancelado'),\n",
    "           (7,vuelos[6][1],vuelos[6][4],vuelos[6][5],vuelos[6][6],vuelos[6][7],'Finalizado'),\n",
    "           (8,vuelos[7][1],vuelos[7][4],'17:05',None,None,'En curso'),\n",
    "           (9,vuelos[8][1],None,None,None,None,'Cancelado'),\n",
    "           (10,vuelos[9][1],vuelos[9][4],vuelos[9][5],vuelos[9][6],vuelos[9][7],'Finalizado')]"
   ]
  },
  {
   "cell_type": "code",
   "execution_count": 2,
   "metadata": {},
   "outputs": [
    {
     "data": {
      "text/plain": [
       "[(1, 2, 'AEP', 'MDQ', '20200320', '06:15', '20200320', '07:05'),\n",
       " (2, 1, 'AEP', 'CPC', '20200320', '12:00', '20200320', '14:15'),\n",
       " (3, 3, 'BRC', 'EZE', '20200320', '17:15', '20200320', '19:30'),\n",
       " (4, 3, 'AEP', 'IGR', '20200320', '21:00', '20200320', '22:40'),\n",
       " (5, 3, 'MDQ', 'IGR', '20200321', '06:00', '20200321', '08:00'),\n",
       " (6, 1, 'IGR', 'USH', '20200321', '21:00', '20200322', '04:20'),\n",
       " (7, 3, 'USH', 'AEP', '20200322', '15:15', '20200322', '18:20'),\n",
       " (8, 2, 'AEP', 'RGA', '20200322', '17:00', '20200322', '20:15'),\n",
       " (9, 3, 'BHI', 'COR', '20200323', '09:10', '20200323', '14:00'),\n",
       " (10, 2, 'NQN', 'BRC', '20200323', '14:45', '20200323', '15:05')]"
      ]
     },
     "execution_count": 2,
     "metadata": {},
     "output_type": "execute_result"
    }
   ],
   "source": [
    "vuelosRDD = sc.parallelize(vuelos)\n",
    "vuelosRDD.collect()"
   ]
  },
  {
   "cell_type": "code",
   "execution_count": 3,
   "metadata": {},
   "outputs": [
    {
     "data": {
      "text/plain": [
       "[(1, 2, '20200320', '06:15', '20200320', '07:05', 'Finalizado'),\n",
       " (2, 1, '20200320', '12:00', '20200320', '14:28', 'Finalizado'),\n",
       " (3, 3, '20200320', '17:15', None, None, 'En curso'),\n",
       " (4, 3, None, None, None, None, 'Cancelado'),\n",
       " (5, 3, '20200321', '06:23', '20200321', '08:30', 'Finalizado'),\n",
       " (6, 1, None, None, None, None, 'Cancelado'),\n",
       " (7, 3, '20200322', '15:15', '20200322', '18:20', 'Finalizado'),\n",
       " (8, 2, '20200322', '17:05', None, None, 'En curso'),\n",
       " (9, 3, None, None, None, None, 'Cancelado'),\n",
       " (10, 2, '20200323', '14:45', '20200323', '15:05', 'Finalizado')]"
      ]
     },
     "execution_count": 3,
     "metadata": {},
     "output_type": "execute_result"
    }
   ],
   "source": [
    "estadosRDD = sc.parallelize(estados)\n",
    "estadosRDD.collect()"
   ]
  },
  {
   "cell_type": "markdown",
   "metadata": {},
   "source": [
    "**A. Cual es el aeropuerto con mayor transito**"
   ]
  },
  {
   "cell_type": "code",
   "execution_count": 4,
   "metadata": {},
   "outputs": [
    {
     "name": "stdout",
     "output_type": "stream",
     "text": [
      "El aeropuerto con mayor transito es 'AEP' con 5 vuelos\n"
     ]
    }
   ],
   "source": [
    "#tengo que ver, tanto en aeropuertos de llegada como de salida, cuantas veces se repiten\n",
    "#y quedarme con el que mas se repite\n",
    "\n",
    "#(aeropSalida, cantidadApariciones)\n",
    "aeropSalidaRDD = vuelosRDD.map(lambda x: (x[2],1))\n",
    "aeropSalidaRDD = aeropSalidaRDD.reduceByKey(lambda x,y: x+y)\n",
    "\n",
    "#(aeropLlegada, cantidadApariciones)\n",
    "aeropLlegadaRDD = vuelosRDD.map(lambda x: (x[3],1))\n",
    "aeropLlegadaRDD = aeropLlegadaRDD.reduceByKey(lambda x,y: x+y)\n",
    "\n",
    "#junto los RDD -> (aerop, (cantidadSalida,cantidadLlegada))\n",
    "aeropuertosRDD = aeropSalidaRDD.join(aeropLlegadaRDD)\n",
    "\n",
    "#(aerop, cantidadSalida + cantidadLlegada)\n",
    "aeropuertosRDD = aeropuertosRDD.map(lambda x: (x[0], x[1][0]+x[1][1]))\n",
    "\n",
    "#me quedo con el mayor\n",
    "aeropuertosRDD = aeropuertosRDD.takeOrdered(aeropuertosRDD.count(),lambda x: x[1])\n",
    "print(\"El aeropuerto con mayor transito es '{}' con {} vuelos\".format(aeropuertosRDD[-1][0], aeropuertosRDD[-1][1]))"
   ]
  },
  {
   "cell_type": "markdown",
   "metadata": {},
   "source": [
    "**B. Cual es la aerolinea con mayor cantidad de vuelos.**"
   ]
  },
  {
   "cell_type": "code",
   "execution_count": 5,
   "metadata": {},
   "outputs": [
    {
     "name": "stdout",
     "output_type": "stream",
     "text": [
      "La aerolinea con mayor cantidad de vuelos es la N° 3 con 5 vuelos\n"
     ]
    }
   ],
   "source": [
    "aerolineasRDD = vuelosRDD.map(lambda x: (x[1],1))\n",
    "aerolineasRDD = aerolineasRDD.reduceByKey(lambda x,y: x+y)\n",
    "aerolineasRDD = aerolineasRDD.takeOrdered(aerolineasRDD.count(),lambda x:x[1])\n",
    "print(\"La aerolinea con mayor cantidad de vuelos es la N° {} con {} vuelos\".format(aerolineasRDD[-1][0],aerolineasRDD[-1][1]))"
   ]
  },
  {
   "cell_type": "markdown",
   "metadata": {},
   "source": [
    "**C. Cual es la aerolinea con mayor cantidad de cancelaciones.**"
   ]
  },
  {
   "cell_type": "code",
   "execution_count": 6,
   "metadata": {},
   "outputs": [
    {
     "name": "stdout",
     "output_type": "stream",
     "text": [
      "La aerolinea con mas cancelaciones es la N° 3 con 2 cancelaciones\n"
     ]
    }
   ],
   "source": [
    "#me quedo con los vuelos que tengan estado cancelado\n",
    "cancelacionesRDD = estadosRDD.filter(lambda x: x[6] == 'Cancelado')\n",
    "cancelacionesRDD = cancelacionesRDD.map(lambda x: (x[1],1))\n",
    "cancelacionesRDD = cancelacionesRDD.reduceByKey(lambda x,y: x+y)\n",
    "cancelacionesRDD = cancelacionesRDD.takeOrdered(cancelacionesRDD.count(),lambda x: x[1])\n",
    "print(\"La aerolinea con mas cancelaciones es la N° {} con {} cancelaciones\".format(cancelacionesRDD[-1][0],cancelacionesRDD[-1][1]))"
   ]
  },
  {
   "cell_type": "markdown",
   "metadata": {},
   "source": [
    "**D. Cual es el vuelo (num. de vuelo+ fecha) con mayor retraso en horario de salida.**"
   ]
  },
  {
   "cell_type": "code",
   "execution_count": 35,
   "metadata": {},
   "outputs": [
    {
     "name": "stdout",
     "output_type": "stream",
     "text": [
      "El vuelvo con mayor retraso en horario de salida es el vuelo N°5, con fecha 20200321 y un retraso de 0:23:00 horas\n"
     ]
    }
   ],
   "source": [
    "horarioTeoricoRDD = vuelosRDD.map(lambda x: ((x[0],x[4]),datetime.strptime(x[5],'%H:%M')))\n",
    "horarioRealRDD = estadosRDD.filter(lambda x: x[6] != 'Cancelado')\n",
    "horarioRealRDD = horarioRealRDD.map(lambda x: ((x[0],x[2]),datetime.strptime(x[3],'%H:%M')))\n",
    "\n",
    "#En horarioTeorico tengo TODOS los vuelos, incluso los cancelados\n",
    "#En horarioReal tengo los vuelos que finalizaron o que estan en curso\n",
    "#si hago join, voy a tener un RDD nuevo con los vuelos finalizados o en curso, y se borran los cancelados\n",
    "#((vuelo,fechaSalida),(fechaTeorica,fechaReal))\n",
    "horariosRDD = horarioTeoricoRDD.join(horarioRealRDD)\n",
    "#(vuelo,fechaSalida, segundosDiferenciaHorarios) (horarioReal-horarioTeorico)\n",
    "horariosRDD = horariosRDD.map(lambda x: (x[0][0],x[0][1],(x[1][1]-x[1][0])))\n",
    "horariosRDD = horariosRDD.takeOrdered(horariosRDD.count(), lambda x: x[2])\n",
    "#formatear\n",
    "print(\"El vuelo con mayor retraso en horario de salida es el vuelo N°{}, con fecha {} y un retraso de {} horas\".format(horariosRDD[-1][0],horariosRDD[-1][1],horariosRDD[-1][2]))"
   ]
  },
  {
   "cell_type": "markdown",
   "metadata": {},
   "source": [
    "**E. Cual es el vuelo (num.de vuelo+fecha) con mayor retraso en horario de llegada**"
   ]
  },
  {
   "cell_type": "code",
   "execution_count": 50,
   "metadata": {},
   "outputs": [
    {
     "name": "stdout",
     "output_type": "stream",
     "text": [
      "El vuelo con mayor retraso en horario de llegada es el vuelo N°5, con fecha 20200321 y un retraso de 0:30:00 horas\n"
     ]
    }
   ],
   "source": [
    "#similar al anterior\n",
    "#a horarioRealRDD le saco los vuelos en curso para quedarme solo con los finalizados\n",
    "horarioLlegadaTeoricoRDD = vuelosRDD.map(lambda x: ((x[0],x[6]),datetime.strptime(x[7],'%H:%M')))\n",
    "horarioLlegadaRealRDD = estadosRDD.filter(lambda x: (x[6] != 'Cancelado') and (x[6] != 'En curso'))\n",
    "horarioLlegadaRealRDD = horarioLlegadaRealRDD.map(lambda x: ((x[0],x[4]),datetime.strptime(x[5],'%H:%M')))\n",
    "\n",
    "horariosRDD2 = horarioLlegadaTeoricoRDD.join(horarioLlegadaRealRDD)\n",
    "\n",
    "horariosRDD2 = horariosRDD2.map(lambda x: (x[0][0],x[0][1],(x[1][1]-x[1][0])))\n",
    "horariosRDD2 = horariosRDD2.takeOrdered(horariosRDD2.count(), lambda x: x[2])\n",
    "#format\n",
    "print(\"El vuelo con mayor retraso en horario de llegada es el vuelo N°{}, con fecha {} y un retraso de {} horas\".format(horariosRDD2[-1][0],horariosRDD2[-1][1],horariosRDD2[-1][2]))"
   ]
  },
  {
   "cell_type": "markdown",
   "metadata": {},
   "source": [
    "**F. Cual es la aerolinea mas puntual**"
   ]
  },
  {
   "cell_type": "code",
   "execution_count": 71,
   "metadata": {},
   "outputs": [
    {
     "name": "stdout",
     "output_type": "stream",
     "text": [
      "La aerolinea mas puntual es la N°2\n"
     ]
    }
   ],
   "source": [
    "#(vuelo, fechaLlegada,timedelta)\n",
    "horariosLlegadaRDD = horarioLlegadaTeoricoRDD.join(horarioLlegadaRealRDD)\n",
    "horariosLlegadaRDD = horariosLlegadaRDD.map(lambda x: (x[0][0],x[0][1],(x[1][1]-x[1][0])))\n",
    "#(vuelo,timedelta)\n",
    "horariosLlegadaRDD = horariosLlegadaRDD.map(lambda x: (x[0],x[2]))\n",
    "\n",
    "#(vuelo,fechaSalida,timedelta)\n",
    "horariosSalidaRDD = horarioTeoricoRDD.join(horarioRealRDD)\n",
    "horariosSalidaRDD = horariosSalidaRDD.map(lambda x: (x[0][0],x[0][1],(x[1][1]-x[1][0])))\n",
    "#(vuelo, timeldeta)\n",
    "horariosSalidaRDD = horariosSalidaRDD.map(lambda x: (x[0],x[2]))\n",
    "\n",
    "#(vuelo, aerolinea)\n",
    "aerolineasYVuelosRDD = estadosRDD.map(lambda x: (x[0],x[1]))\n",
    "\n",
    "#joineo por aerolinea y vuelo\n",
    "aerolineasDeltaLlegadaRDD = aerolineasYVuelosRDD.join(horariosLlegadaRDD)\n",
    "#(aerolinea,delta)\n",
    "aerolineasDeltaLlegadaRDD = aerolineasDeltaLlegadaRDD.map(lambda x: (x[1][0],x[1][1]))\n",
    "#(aerolinea, suma de los retrasos de llegada)\n",
    "aerolineasDeltaLlegadaRDD = aerolineasDeltaLlegadaRDD.reduceByKey(lambda x,y: x+y)\n",
    "\n",
    "aerolineasDeltaSalidaRDD = aerolineasYVuelosRDD.join(horariosSalidaRDD)\n",
    "aerolineasDeltaSalidaRDD = aerolineasDeltaSalidaRDD.map(lambda x: (x[1][0],x[1][1]))\n",
    "aerolineasDeltaSalidaRDD = aerolineasDeltaSalidaRDD.reduceByKey(lambda x,y: x+y)\n",
    "\n",
    "aerolineasDeltaRDD = aerolineasDeltaSalidaRDD.union(aerolineasDeltaLlegadaRDD)\n",
    "aerolineasDeltaRDD = aerolineasDeltaRDD.reduceByKey(lambda x,y: x+y)\n",
    "aerolineasDeltaRDD = aerolineasDeltaRDD.takeOrdered(aerolineasDeltaRDD.count(),lambda x: x[1].total_seconds())\n",
    "aerolineasDeltaRDD\n",
    "\n",
    "print(\"La aerolinea mas puntual es la N°{}\".format(aerolineasDeltaRDD[0][0]))"
   ]
  },
  {
   "cell_type": "code",
   "execution_count": null,
   "metadata": {},
   "outputs": [],
   "source": []
  }
 ],
 "metadata": {
  "kernelspec": {
   "display_name": "Python 3",
   "language": "python",
   "name": "python3"
  },
  "language_info": {
   "codemirror_mode": {
    "name": "ipython",
    "version": 3
   },
   "file_extension": ".py",
   "mimetype": "text/x-python",
   "name": "python",
   "nbconvert_exporter": "python",
   "pygments_lexer": "ipython3",
   "version": "3.6.9"
  }
 },
 "nbformat": 4,
 "nbformat_minor": 4
}
