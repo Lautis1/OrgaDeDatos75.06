{
 "cells": [
  {
   "cell_type": "markdown",
   "metadata": {},
   "source": [
    "1) dado el registro de notas de los alumnos (padron,materia,nota,fecha) se pide, utilizando pandas:\n",
    "    A. promedio de notas\n",
    "    B. Nota mas alta y nota mas baja durante 2019\n",
    "    C. Padron con mayor cantidad de materias aprobadas durante el ultimo cuatrimestre\n",
    "    D. Nota promedio\n",
    "    E. Nota promedio por padron"
   ]
  },
  {
   "cell_type": "code",
   "execution_count": 1,
   "metadata": {
    "scrolled": true
   },
   "outputs": [
    {
     "data": {
      "text/html": [
       "<div>\n",
       "<style scoped>\n",
       "    .dataframe tbody tr th:only-of-type {\n",
       "        vertical-align: middle;\n",
       "    }\n",
       "\n",
       "    .dataframe tbody tr th {\n",
       "        vertical-align: top;\n",
       "    }\n",
       "\n",
       "    .dataframe thead th {\n",
       "        text-align: right;\n",
       "    }\n",
       "</style>\n",
       "<table border=\"1\" class=\"dataframe\">\n",
       "  <thead>\n",
       "    <tr style=\"text-align: right;\">\n",
       "      <th></th>\n",
       "      <th>padron</th>\n",
       "      <th>materia</th>\n",
       "      <th>nota</th>\n",
       "      <th>fecha</th>\n",
       "    </tr>\n",
       "  </thead>\n",
       "  <tbody>\n",
       "    <tr>\n",
       "      <td>0</td>\n",
       "      <td>100901</td>\n",
       "      <td>Analisis matematico II A</td>\n",
       "      <td>5</td>\n",
       "      <td>5/12/2019</td>\n",
       "    </tr>\n",
       "    <tr>\n",
       "      <td>1</td>\n",
       "      <td>100502</td>\n",
       "      <td>Laboratorio</td>\n",
       "      <td>6</td>\n",
       "      <td>18/2/2020</td>\n",
       "    </tr>\n",
       "    <tr>\n",
       "      <td>2</td>\n",
       "      <td>100414</td>\n",
       "      <td>Estructura del computador</td>\n",
       "      <td>10</td>\n",
       "      <td>23/11/2019</td>\n",
       "    </tr>\n",
       "    <tr>\n",
       "      <td>3</td>\n",
       "      <td>100901</td>\n",
       "      <td>Algebra II</td>\n",
       "      <td>4</td>\n",
       "      <td>1/8/2018</td>\n",
       "    </tr>\n",
       "    <tr>\n",
       "      <td>4</td>\n",
       "      <td>100901</td>\n",
       "      <td>Fisica II A</td>\n",
       "      <td>7</td>\n",
       "      <td>14/7/2019</td>\n",
       "    </tr>\n",
       "  </tbody>\n",
       "</table>\n",
       "</div>"
      ],
      "text/plain": [
       "   padron                    materia  nota       fecha\n",
       "0  100901   Analisis matematico II A     5   5/12/2019\n",
       "1  100502                Laboratorio     6   18/2/2020\n",
       "2  100414  Estructura del computador    10  23/11/2019\n",
       "3  100901                 Algebra II     4    1/8/2018\n",
       "4  100901                Fisica II A     7   14/7/2019"
      ]
     },
     "execution_count": 1,
     "metadata": {},
     "output_type": "execute_result"
    }
   ],
   "source": [
    "import pandas as pd\n",
    "import datetime\n",
    "\n",
    "datos = pd.read_csv('ej1.csv')\n",
    "datos.head()"
   ]
  },
  {
   "cell_type": "code",
   "execution_count": 2,
   "metadata": {},
   "outputs": [
    {
     "data": {
      "text/plain": [
       "6.166666666666667"
      ]
     },
     "execution_count": 2,
     "metadata": {},
     "output_type": "execute_result"
    }
   ],
   "source": [
    "#A) PROMEDIO DE NOTAS\n",
    "\n",
    "datos['nota'].mean()\n"
   ]
  },
  {
   "cell_type": "code",
   "execution_count": 3,
   "metadata": {},
   "outputs": [
    {
     "name": "stdout",
     "output_type": "stream",
     "text": [
      "nota    2\n",
      "dtype: int64\n",
      "nota    10\n",
      "dtype: int64\n"
     ]
    }
   ],
   "source": [
    "#B) NOTA MAS ALTA Y MAS BAJA DE 2019\n",
    "\n",
    "#convierto las fechas a datetime\n",
    "datos['fecha'] = pd.to_datetime(datos['fecha'], format = '%d/%m/%Y')\n",
    "\n",
    "#agrego columna con anio\n",
    "datos['anio'] = datos['fecha'].dt.year\n",
    "\n",
    "#me quedo con las notas del anio 2019\n",
    "notas2019 = datos[datos['anio'] == 2019].nota.to_frame()\n",
    "print(notas2019.min())\n",
    "print(notas2019.max())"
   ]
  },
  {
   "cell_type": "code",
   "execution_count": 4,
   "metadata": {},
   "outputs": [
    {
     "data": {
      "text/plain": [
       "padron\n",
       "100901    1\n",
       "Name: padron, dtype: int64"
      ]
     },
     "execution_count": 4,
     "metadata": {},
     "output_type": "execute_result"
    }
   ],
   "source": [
    "#C) PADRON CON MAYOR CANTIDAD DE MATERIAS APROBADAS EN ULTIMO CUATRIM (supongo en ultimo año tmb 2019)\n",
    "\n",
    "#Agrego una columna \"aprobado\"\n",
    "datos['aprobado'] = datos['nota'] >= 4\n",
    "\n",
    "#Agrego columna \"cuatrimestre\" sabiendo que el año tiene 3 cuatris: de enero a marzo (1,2,3) % 3 = 0;\n",
    "#de abril a julio (4,5,6,7) % 3 = 1; de agosto a noviembre (8,9,10,11) % 3 = 2 -> 1erC = 1, 2doC = 1\n",
    "datos['cuatrimestre'] = datos['fecha'].dt.month % 3\n",
    "\n",
    "#filtro por ultimo año y por ultimo cuatrimestre\n",
    "ultimoAño = datos[datos['anio'] == 2019]\n",
    "ultimoCuatrimestre = ultimoAño[ultimoAño['cuatrimestre'] == 2]\n",
    "ultimoCuatriAprobado = ultimoCuatrimestre[ultimoCuatrimestre['aprobado']]\n",
    "\n",
    "#tengo que quedarme con el padron q mas materias aprobo en este ultimo cuatri\n",
    "agrupacionPadron = ultimoCuatriAprobado.groupby('padron').nunique()\n",
    "agrupacionPadron[agrupacionPadron['materia'] ==  agrupacionPadron.materia.max()].padron\n",
    "\n",
    "\n"
   ]
  },
  {
   "cell_type": "code",
   "execution_count": 5,
   "metadata": {},
   "outputs": [
    {
     "data": {
      "text/plain": [
       "6.833333333333333"
      ]
     },
     "execution_count": 5,
     "metadata": {},
     "output_type": "execute_result"
    }
   ],
   "source": [
    "#D) NOTA PROMEDIO (de aprobados el ultimo cuatri)\n",
    "ultimoCuatriAprobado['nota'].mean()"
   ]
  },
  {
   "cell_type": "code",
   "execution_count": 6,
   "metadata": {},
   "outputs": [
    {
     "data": {
      "text/html": [
       "<div>\n",
       "<style scoped>\n",
       "    .dataframe tbody tr th:only-of-type {\n",
       "        vertical-align: middle;\n",
       "    }\n",
       "\n",
       "    .dataframe tbody tr th {\n",
       "        vertical-align: top;\n",
       "    }\n",
       "\n",
       "    .dataframe thead th {\n",
       "        text-align: right;\n",
       "    }\n",
       "</style>\n",
       "<table border=\"1\" class=\"dataframe\">\n",
       "  <thead>\n",
       "    <tr style=\"text-align: right;\">\n",
       "      <th></th>\n",
       "      <th>nota</th>\n",
       "    </tr>\n",
       "    <tr>\n",
       "      <th>padron</th>\n",
       "      <th></th>\n",
       "    </tr>\n",
       "  </thead>\n",
       "  <tbody>\n",
       "    <tr>\n",
       "      <td>100414</td>\n",
       "      <td>10.000000</td>\n",
       "    </tr>\n",
       "    <tr>\n",
       "      <td>100502</td>\n",
       "      <td>5.500000</td>\n",
       "    </tr>\n",
       "    <tr>\n",
       "      <td>100901</td>\n",
       "      <td>6.666667</td>\n",
       "    </tr>\n",
       "  </tbody>\n",
       "</table>\n",
       "</div>"
      ],
      "text/plain": [
       "             nota\n",
       "padron           \n",
       "100414  10.000000\n",
       "100502   5.500000\n",
       "100901   6.666667"
      ]
     },
     "execution_count": 6,
     "metadata": {},
     "output_type": "execute_result"
    }
   ],
   "source": [
    "#E) NOTA PROMEDIO POR PADRON (de los aprobados el ultimo cuatri)\n",
    "agrupacion = ultimoCuatriAprobado.groupby('padron').agg({'nota': 'mean'})\n",
    "agrupacion"
   ]
  },
  {
   "cell_type": "code",
   "execution_count": null,
   "metadata": {},
   "outputs": [],
   "source": []
  }
 ],
 "metadata": {
  "kernelspec": {
   "display_name": "Python 3",
   "language": "python",
   "name": "python3"
  },
  "language_info": {
   "codemirror_mode": {
    "name": "ipython",
    "version": 3
   },
   "file_extension": ".py",
   "mimetype": "text/x-python",
   "name": "python",
   "nbconvert_exporter": "python",
   "pygments_lexer": "ipython3",
   "version": "3.7.4"
  }
 },
 "nbformat": 4,
 "nbformat_minor": 2
}
