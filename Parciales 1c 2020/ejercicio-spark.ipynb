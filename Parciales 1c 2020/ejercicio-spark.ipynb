{
 "cells": [
  {
   "cell_type": "code",
   "execution_count": 1,
   "metadata": {},
   "outputs": [],
   "source": [
    "import numpy as np\n",
    "import random\n",
    "from datetime import *\n",
    "import time\n",
    "from pyspark.sql import SQLContext\n",
    "sqlContext = SQLContext(sc)"
   ]
  },
  {
   "cell_type": "code",
   "execution_count": 19,
   "metadata": {},
   "outputs": [],
   "source": [
    "#Cargo csv\n",
    "muertes = sqlContext.read.csv('info-muertes.csv', header=True).rdd.cache()\n",
    "\n",
    "pobreza = sqlContext.read.csv('pobreza2.csv', header=True).rdd.cache()"
   ]
  },
  {
   "cell_type": "code",
   "execution_count": 47,
   "metadata": {},
   "outputs": [],
   "source": [
    "#Item A\n",
    "\n",
    "#mapeo como (state,povrty_rate)\n",
    "pobreza_estado = pobreza.map(lambda x: (x[0],float(x[2])))\n",
    "pobreza_estado = pobreza_estado.reduceByKey(lambda x,y: x+y)\n",
    "\n",
    "#Ahora joineo con el rdd de pobreza, pero antes lo mapeo a (state,(city,poverty))\n",
    "rdd1 = pobreza.map(lambda x: (x[0],(x[1],x[2])))\n",
    "\n",
    "#me queda algo de la forma (state,(poverty_state,(city,poverty_city)))\n",
    "pobreza_estado_ciudad = pobreza_estado.join(rdd1).cache()\n",
    "#Calculo la diferencia\n",
    "pobreza_estado_ciudad = pobreza_estado_ciudad.map(lambda x: (x[1][1][0], abs(float(x[1][1][1])-x[1][0])))\n",
    "#Me quedo con las 10 con mayor diferencia\n",
    "pobreza_estado_ciudad.takeOrdered(10,lambda x: -x[1])\n",
    "\n",
    "                   "
   ]
  },
  {
   "cell_type": "code",
   "execution_count": 46,
   "metadata": {},
   "outputs": [],
   "source": [
    "#Item B\n",
    "#mapeo el rdd de muertes por (state,race) y me quedo solo con los de raza negra\n",
    "rdd2 = muertes.filter(lambda x: x[2] =='black').map(lambda x: (x[4],x[2])) \n",
    "#joineo este rdd con el de pobreza_estado que contiene (state,poverty_rate_state) y redondeo\n",
    "#los ratios de pobreza, quedando como (poverty_rate_round,1) #1 para sumar\n",
    "rdd3 = rdd2.join(pobreza_estado).map(lambda x: (round(x[1][1]),1))\n",
    "#Reduzco por clave y sumo\n",
    "rdd3 = rdd3.reduceByKey(lambda x,y: x+y)\n",
    "#aca habria que devolver el resultado"
   ]
  },
  {
   "cell_type": "code",
   "execution_count": null,
   "metadata": {},
   "outputs": [],
   "source": []
  }
 ],
 "metadata": {
  "kernelspec": {
   "display_name": "Python 3",
   "language": "python",
   "name": "python3"
  },
  "language_info": {
   "codemirror_mode": {
    "name": "ipython",
    "version": 3
   },
   "file_extension": ".py",
   "mimetype": "text/x-python",
   "name": "python",
   "nbconvert_exporter": "python",
   "pygments_lexer": "ipython3",
   "version": "3.6.9"
  }
 },
 "nbformat": 4,
 "nbformat_minor": 4
}
