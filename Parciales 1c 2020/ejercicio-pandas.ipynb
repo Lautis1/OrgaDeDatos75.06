{
 "cells": [
  {
   "cell_type": "code",
   "execution_count": 63,
   "metadata": {},
   "outputs": [],
   "source": [
    "import pandas as pd\n",
    "import numpy as np\n",
    "import random\n",
    "from datetime import *\n",
    "import time"
   ]
  },
  {
   "cell_type": "code",
   "execution_count": 64,
   "metadata": {},
   "outputs": [],
   "source": [
    "#Cargo los csv\n",
    "df_metrics = pd.read_csv('metrics.csv')\n",
    "df_integrations = pd.read_csv('integrations.csv')"
   ]
  },
  {
   "cell_type": "code",
   "execution_count": 67,
   "metadata": {},
   "outputs": [],
   "source": [
    "#Item A\n",
    "#Me quedo con las metricas pedidas\n",
    "df_a = df_metrics[(df_metrics['metric'] == 'ssl_failed')\n",
    "                  |(df_metrics['metric']== 'handshake_failed')\n",
    "                  |(df_metrics['metric']== 'tls_failed')]\n",
    "#de ese df, me quedo con aquellos campos que tengan timestamp >= 1592187602\n",
    "df_a = df_a[df_a['timestamp'] >= 1592187602]\n",
    "df_2 = pd.pivot_table(df_a, index=['integration_id','metric'],aggfunc = {'value':'sum'})\\\n",
    ".unstack()\n",
    "df_2.columns = ['handshake_failed','ssl_failed','tls_failed']"
   ]
  },
  {
   "cell_type": "code",
   "execution_count": 68,
   "metadata": {},
   "outputs": [],
   "source": [
    "#Item B\n",
    "\n",
    "#mergeo mi dataframe filtrado por timestapm dado y por las 3 primeras metricas pedidas\n",
    "merge = df_a.merge(df_integrations, on='integration_id')\n",
    "#me quedo solo con la metrica 'handshake_failed'\n",
    "merge = merge[merge['metric'] == 'handshake_failed']\n",
    "#agrupo por nombre de integration y le aplico count a la columna 'metric'\n",
    "merge = merge.groupby('integration_name')['metric'].agg('count').reset_index()\n",
    "#renombro columnas\n",
    "merge.columns = ['integration_name','tot_handshake_failed']\n",
    "#top5 de integraciones con mayor cantidad de errores handhsake\n",
    "merge.nlargest(5,columns='tot_handshake_failed')"
   ]
  },
  {
   "cell_type": "code",
   "execution_count": null,
   "metadata": {},
   "outputs": [],
   "source": []
  },
  {
   "cell_type": "code",
   "execution_count": null,
   "metadata": {},
   "outputs": [],
   "source": []
  }
 ],
 "metadata": {
  "kernelspec": {
   "display_name": "Python 3",
   "language": "python",
   "name": "python3"
  },
  "language_info": {
   "codemirror_mode": {
    "name": "ipython",
    "version": 3
   },
   "file_extension": ".py",
   "mimetype": "text/x-python",
   "name": "python",
   "nbconvert_exporter": "python",
   "pygments_lexer": "ipython3",
   "version": "3.6.9"
  }
 },
 "nbformat": 4,
 "nbformat_minor": 4
}
